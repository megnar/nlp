{
  "cells": [
    {
      "cell_type": "markdown",
      "metadata": {
        "id": "HmsFABwClrsS"
      },
      "source": [
        "## Seminar and homework (10 points total)\n",
        "\n",
        "Today we shall compose encoder-decoder neural networks and apply them to the task of machine translation.\n",
        "\n",
        "![img](https://esciencegroup.files.wordpress.com/2016/03/seq2seq.jpg)\n",
        "_(img: esciencegroup.files.wordpress.com)_\n",
        "\n",
        "\n",
        "Encoder-decoder architectures are about converting anything to anything, including\n",
        " * Machine translation and spoken dialogue systems\n",
        " * [Image captioning](http://mscoco.org/dataset/#captions-challenge2015) and [image2latex](https://openai.com/requests-for-research/#im2latex) (convolutional encoder, recurrent decoder)\n",
        " * Generating [images by captions](https://arxiv.org/abs/1511.02793) (recurrent encoder, convolutional decoder)\n",
        " * Grapheme2phoneme - convert words to transcripts"
      ]
    },
    {
      "cell_type": "markdown",
      "metadata": {
        "id": "R4N9AD2dlrsU"
      },
      "source": [
        "## Our task: machine translation\n",
        "\n",
        "We gonna try our encoder-decoder models on russian to english machine translation problem. More specifically, we'll translate hotel and hostel descriptions. This task shows the scale of machine translation while not requiring you to train your model for weeks if you don't use GPU.\n",
        "\n",
        "Before we get to the architecture, there's some preprocessing to be done. ~~Go tokenize~~ Alright, this time we've done preprocessing for you. As usual, the data will be tokenized with WordPunctTokenizer.\n",
        "\n",
        "However, there's one more thing to do. Our data lines contain unique rare words. If we operate on a word level, we will have to deal with large vocabulary size. If instead we use character-level models, it would take lots of iterations to process a sequence. This time we're gonna pick something inbetween.\n",
        "\n",
        "One popular approach is called [Byte Pair Encoding](https://github.com/rsennrich/subword-nmt) aka __BPE__. The algorithm starts with a character-level tokenization and then iteratively merges most frequent pairs for N iterations. This results in frequent words being merged into a single token and rare words split into syllables or even characters.\n",
        "\n"
      ]
    },
    {
      "cell_type": "code",
      "execution_count": 1,
      "metadata": {
        "colab": {
          "base_uri": "https://localhost:8080/"
        },
        "id": "CfvojjHQlrsU",
        "outputId": "63f56f6b-f353-4d89-e2e1-c21e8b3da7a8"
      },
      "outputs": [
        {
          "output_type": "stream",
          "name": "stdout",
          "text": [
            "--2024-06-29 12:12:11--  https://www.dropbox.com/s/yy2zqh34dyhv07i/data.txt?dl=1\n",
            "Resolving www.dropbox.com (www.dropbox.com)... 162.125.81.18, 2620:100:6031:18::a27d:5112\n",
            "Connecting to www.dropbox.com (www.dropbox.com)|162.125.81.18|:443... connected.\n",
            "HTTP request sent, awaiting response... 302 Found\n",
            "Location: https://www.dropbox.com/scl/fi/mw8tdyetqboqwkn5ma886/data.txt?rlkey=t9fmsizx27ikh0vak0ir265a6&dl=1 [following]\n",
            "--2024-06-29 12:12:11--  https://www.dropbox.com/scl/fi/mw8tdyetqboqwkn5ma886/data.txt?rlkey=t9fmsizx27ikh0vak0ir265a6&dl=1\n",
            "Reusing existing connection to www.dropbox.com:443.\n",
            "HTTP request sent, awaiting response... 302 Found\n",
            "Location: https://ucdfd0ed97c60f2d43b94e3e778d.dl.dropboxusercontent.com/cd/0/inline/CVwgHgA5wpKD2h-ndOHcV7VNc9xtD1WNEA7_gMmMRpUOt37aDgEhXKxp0UJY8Rv_YAzUvTDrEUsePASg_7hddnmg68LcByLiOJJkI5Cv48RUJH4kOtdrVt3FCcxMme-xywk/file?dl=1# [following]\n",
            "--2024-06-29 12:12:11--  https://ucdfd0ed97c60f2d43b94e3e778d.dl.dropboxusercontent.com/cd/0/inline/CVwgHgA5wpKD2h-ndOHcV7VNc9xtD1WNEA7_gMmMRpUOt37aDgEhXKxp0UJY8Rv_YAzUvTDrEUsePASg_7hddnmg68LcByLiOJJkI5Cv48RUJH4kOtdrVt3FCcxMme-xywk/file?dl=1\n",
            "Resolving ucdfd0ed97c60f2d43b94e3e778d.dl.dropboxusercontent.com (ucdfd0ed97c60f2d43b94e3e778d.dl.dropboxusercontent.com)... 162.125.5.15, 2620:100:6031:15::a27d:510f\n",
            "Connecting to ucdfd0ed97c60f2d43b94e3e778d.dl.dropboxusercontent.com (ucdfd0ed97c60f2d43b94e3e778d.dl.dropboxusercontent.com)|162.125.5.15|:443... connected.\n",
            "HTTP request sent, awaiting response... 200 OK\n",
            "Length: 12905335 (12M) [application/binary]\n",
            "Saving to: ‘data.txt’\n",
            "\n",
            "data.txt            100%[===================>]  12.31M  4.48MB/s    in 2.7s    \n",
            "\n",
            "2024-06-29 12:12:16 (4.48 MB/s) - ‘data.txt’ saved [12905335/12905335]\n",
            "\n",
            "--2024-06-29 12:12:16--  https://raw.githubusercontent.com/yandexdataschool/nlp_course/2020/week04_seq2seq/vocab.py\n",
            "Resolving raw.githubusercontent.com (raw.githubusercontent.com)... 185.199.108.133, 185.199.109.133, 185.199.110.133, ...\n",
            "Connecting to raw.githubusercontent.com (raw.githubusercontent.com)|185.199.108.133|:443... connected.\n",
            "HTTP request sent, awaiting response... 200 OK\n",
            "Length: 2879 (2.8K) [text/plain]\n",
            "Saving to: ‘vocab.py’\n",
            "\n",
            "vocab.py            100%[===================>]   2.81K  --.-KB/s    in 0s      \n",
            "\n",
            "2024-06-29 12:12:17 (42.1 MB/s) - ‘vocab.py’ saved [2879/2879]\n",
            "\n"
          ]
        }
      ],
      "source": [
        "!pip3 install torch>=1.3.0\n",
        "!pip3 install subword-nmt &> log\n",
        "!wget https://www.dropbox.com/s/yy2zqh34dyhv07i/data.txt?dl=1 -O data.txt\n",
        "!wget https://raw.githubusercontent.com/yandexdataschool/nlp_course/2020/week04_seq2seq/vocab.py -O vocab.py\n",
        "# thanks to tilda and deephack teams for the data, Dmitry Emelyanenko for the code :)"
      ]
    },
    {
      "cell_type": "code",
      "execution_count": 2,
      "metadata": {
        "colab": {
          "base_uri": "https://localhost:8080/"
        },
        "id": "g9kP0SdxlrsY",
        "outputId": "a741bbf2-a4c4-40b0-a072-455ef06cfc94"
      },
      "outputs": [
        {
          "output_type": "stream",
          "name": "stderr",
          "text": [
            "100%|██████████| 8000/8000 [00:24<00:00, 329.50it/s]\n",
            "100%|██████████| 8000/8000 [00:11<00:00, 705.20it/s]\n"
          ]
        }
      ],
      "source": [
        "from nltk.tokenize import WordPunctTokenizer\n",
        "from subword_nmt.learn_bpe import learn_bpe\n",
        "from subword_nmt.apply_bpe import BPE\n",
        "tokenizer = WordPunctTokenizer()\n",
        "def tokenize(x):\n",
        "    return ' '.join(tokenizer.tokenize(x.lower()))\n",
        "\n",
        "# split and tokenize the data\n",
        "with open('train.en', 'w') as f_src,  open('train.ru', 'w') as f_dst:\n",
        "    for line in open('data.txt'):\n",
        "        src_line, dst_line = line.strip().split('\\t')\n",
        "        f_src.write(tokenize(src_line) + '\\n')\n",
        "        f_dst.write(tokenize(dst_line) + '\\n')\n",
        "\n",
        "# build and apply bpe vocs\n",
        "bpe = {}\n",
        "for lang in ['en', 'ru']:\n",
        "    learn_bpe(open('./train.' + lang), open('bpe_rules.' + lang, 'w'), num_symbols=8000)\n",
        "    bpe[lang] = BPE(open('./bpe_rules.' + lang))\n",
        "\n",
        "    with open('train.bpe.' + lang, 'w') as f_out:\n",
        "        for line in open('train.' + lang):\n",
        "            f_out.write(bpe[lang].process_line(line.strip()) + '\\n')"
      ]
    },
    {
      "cell_type": "markdown",
      "metadata": {
        "id": "0UPW3sV8lrsb"
      },
      "source": [
        "### Building vocabularies\n",
        "\n",
        "We now need to build vocabularies that map strings to token ids and vice versa. We're gonna need these fellas when we feed training data into model or convert output matrices into words."
      ]
    },
    {
      "cell_type": "code",
      "execution_count": 3,
      "metadata": {
        "id": "CmTy_m_olrsb"
      },
      "outputs": [],
      "source": [
        "import numpy as np\n",
        "import matplotlib.pyplot as plt\n",
        "%matplotlib inline"
      ]
    },
    {
      "cell_type": "code",
      "execution_count": 4,
      "metadata": {
        "colab": {
          "base_uri": "https://localhost:8080/"
        },
        "id": "8PskgBSxlrsd",
        "outputId": "1ed8e066-4217-4171-caa8-17cc20994bcd"
      },
      "outputs": [
        {
          "output_type": "stream",
          "name": "stdout",
          "text": [
            "inp: на территории обустроена бесплатная частная парковка .\n",
            "out: free private parking is available on site .\n",
            "\n",
            "inp: кроме того , в 5 минутах ходьбы работают многочисленные бары и рестораны .\n",
            "out: guests can find many bars and restaurants within a 5 - minute walk .\n",
            "\n",
            "inp: отель san mi@@ gu@@ el расположен в центре мор@@ ели@@ и , в 750 метрах от главной площади города и кафедрального собора .\n",
            "out: hotel san miguel is located in central more@@ lia , 750 metres from the city ’ s main square and cathedral .\n",
            "\n"
          ]
        }
      ],
      "source": [
        "data_inp = np.array(open('./train.bpe.ru').read().split('\\n'))\n",
        "data_out = np.array(open('./train.bpe.en').read().split('\\n'))\n",
        "\n",
        "from sklearn.model_selection import train_test_split\n",
        "train_inp, dev_inp, train_out, dev_out = train_test_split(data_inp, data_out, test_size=3000,\n",
        "                                                          random_state=42)\n",
        "for i in range(3):\n",
        "    print('inp:', train_inp[i])\n",
        "    print('out:', train_out[i], end='\\n\\n')"
      ]
    },
    {
      "cell_type": "code",
      "execution_count": 5,
      "metadata": {
        "id": "vipg4O61lrsg"
      },
      "outputs": [],
      "source": [
        "from vocab import Vocab\n",
        "inp_voc = Vocab.from_lines(train_inp)\n",
        "out_voc = Vocab.from_lines(train_out)"
      ]
    },
    {
      "cell_type": "code",
      "execution_count": 6,
      "metadata": {
        "colab": {
          "base_uri": "https://localhost:8080/"
        },
        "id": "cwOoHfuhlrsi",
        "outputId": "ed5af588-edb4-4489-96f1-61a1c314021f"
      },
      "outputs": [
        {
          "output_type": "stream",
          "name": "stdout",
          "text": [
            "lines\n",
            "['гостевой дом r .', 'до афин — 20 км .', 'работает боулинг .', 'оборудован балкон .', 'подключен wi - fi .']\n",
            "\n",
            "words to ids (0 = bos, 1 = eos):\n",
            "tensor([[   0, 2688, 2943, 1108,   29,    1,    1,    1],\n",
            "        [   0, 2922, 1834, 8035,   59, 3800,   29,    1],\n",
            "        [   0, 6030, 2083,   29,    1,    1,    1,    1],\n",
            "        [   0, 4927, 1870,   29,    1,    1,    1,    1],\n",
            "        [   0, 5549, 1453,   27,  592,   29,    1,    1]])\n",
            "\n",
            "back to words\n",
            "['гостевой дом r .', 'до афин — 20 км .', 'работает боулинг .', 'оборудован балкон .', 'подключен wi - fi .']\n"
          ]
        }
      ],
      "source": [
        "# Here's how you cast lines into ids and backwards.\n",
        "batch_lines = sorted(train_inp, key=len)[5:10]\n",
        "batch_ids = inp_voc.to_matrix(batch_lines)\n",
        "batch_lines_restored = inp_voc.to_lines(batch_ids)\n",
        "\n",
        "print(\"lines\")\n",
        "print(batch_lines)\n",
        "print(\"\\nwords to ids (0 = bos, 1 = eos):\")\n",
        "print(batch_ids)\n",
        "print(\"\\nback to words\")\n",
        "print(batch_lines_restored)"
      ]
    },
    {
      "cell_type": "markdown",
      "metadata": {
        "id": "gSYu-MkElrsk"
      },
      "source": [
        "Draw source and translation length distributions to estimate the scope of the task."
      ]
    },
    {
      "cell_type": "code",
      "execution_count": 7,
      "metadata": {
        "colab": {
          "base_uri": "https://localhost:8080/",
          "height": 391
        },
        "id": "TLLl9cSNlrsl",
        "outputId": "55d3e089-5572-450c-c91e-c64a35f198da"
      },
      "outputs": [
        {
          "output_type": "display_data",
          "data": {
            "text/plain": [
              "<Figure size 800x400 with 2 Axes>"
            ],
            "image/png": "[encoded data removed]"
          },
          "metadata": {}
        }
      ],
      "source": [
        "plt.figure(figsize=[8, 4])\n",
        "plt.subplot(1, 2, 1)\n",
        "plt.title(\"source length\")\n",
        "plt.hist(list(map(len, map(str.split, train_inp))), bins=20);\n",
        "\n",
        "plt.subplot(1, 2, 2)\n",
        "plt.title(\"translation length\")\n",
        "plt.hist(list(map(len, map(str.split, train_out))), bins=20);"
      ]
    },
    {
      "cell_type": "markdown",
      "metadata": {
        "id": "BHWgx34flrsn"
      },
      "source": [
        "### Encoder-decoder model\n",
        "\n",
        "The code below contains a template for a simple encoder-decoder model: single GRU encoder/decoder, no attention or anything. This model is implemented for you as a reference and a baseline for your homework assignment."
      ]
    },
    {
      "cell_type": "code",
      "execution_count": 8,
      "metadata": {
        "id": "pd_rDRm9lrso"
      },
      "outputs": [],
      "source": [
        "import torch\n",
        "import torch.nn as nn\n",
        "import torch.nn.functional as F\n",
        "device = 'cuda' if torch.cuda.is_available() else 'cpu'"
      ]
    },
    {
      "cell_type": "code",
      "execution_count": 9,
      "metadata": {
        "id": "wgfN5-F7lrst"
      },
      "outputs": [],
      "source": [
        "class BasicModel(nn.Module):\n",
        "    def __init__(self, inp_voc, out_voc, emb_size=64, hid_size=128):\n",
        "        \"\"\"\n",
        "        A simple encoder-decoder seq2seq model\n",
        "        \"\"\"\n",
        "        super().__init__() # initialize base class to track sub-layers, parameters, etc.\n",
        "\n",
        "        self.inp_voc, self.out_voc = inp_voc, out_voc\n",
        "        self.hid_size = hid_size\n",
        "\n",
        "        self.emb_inp = nn.Embedding(len(inp_voc), emb_size)\n",
        "        self.emb_out = nn.Embedding(len(out_voc), emb_size)\n",
        "        self.enc0 = nn.GRU(emb_size, hid_size, batch_first=True)\n",
        "\n",
        "        self.dec_start = nn.Linear(hid_size, hid_size)\n",
        "        self.dec0 = nn.GRUCell(emb_size, hid_size)\n",
        "        self.logits = nn.Linear(hid_size, len(out_voc))\n",
        "\n",
        "    def forward(self, inp, out):\n",
        "        \"\"\" Apply model in training mode \"\"\"\n",
        "        initial_state = self.encode(inp)\n",
        "        return self.decode(initial_state, out)\n",
        "\n",
        "\n",
        "    def encode(self, inp, **flags):\n",
        "        \"\"\"\n",
        "        Takes symbolic input sequence, computes initial state\n",
        "        :param inp: matrix of input tokens [batch, time]\n",
        "        :returns: initial decoder state tensors, one or many\n",
        "        \"\"\"\n",
        "        inp_emb = self.emb_inp(inp)\n",
        "        batch_size = inp.shape[0]\n",
        "\n",
        "        enc_seq, [last_state_but_not_really] = self.enc0(inp_emb)\n",
        "        # enc_seq: [batch, time, hid_size], last_state: [batch, hid_size]\n",
        "\n",
        "        # note: last_state is not _actually_ last because of padding, let's find the real last_state\n",
        "        lengths = (inp != self.inp_voc.eos_ix).to(torch.int64).sum(dim=1).clamp_max(inp.shape[1] - 1)\n",
        "        last_state = enc_seq[torch.arange(len(enc_seq)), lengths]\n",
        "        # ^-- shape: [batch_size, hid_size]\n",
        "\n",
        "        dec_start = self.dec_start(last_state)\n",
        "        return [dec_start]\n",
        "\n",
        "    def decode_step(self, prev_state, prev_tokens, **flags):\n",
        "        \"\"\"\n",
        "        Takes previous decoder state and tokens, returns new state and logits for next tokens\n",
        "        :param prev_state: a list of previous decoder state tensors, same as returned by encode(...)\n",
        "        :param prev_tokens: previous output tokens, an int vector of [batch_size]\n",
        "        :return: a list of next decoder state tensors, a tensor of logits [batch, len(out_voc)]\n",
        "        \"\"\"\n",
        "        prev_gru0_state = prev_state[0]\n",
        "\n",
        "        prev_tokens_embs = self.emb_out(prev_tokens)\n",
        "        new_gru_activations = self.dec0(prev_tokens_embs, prev_gru0_state)\n",
        "        new_dec_state = [new_gru_activations]\n",
        "        output_logits = self.logits(new_gru_activations)\n",
        "\n",
        "        return new_dec_state, output_logits\n",
        "\n",
        "    def decode(self, initial_state, out_tokens, **flags):\n",
        "        \"\"\" Iterate over reference tokens (out_tokens) with decode_step \"\"\"\n",
        "        batch_size = out_tokens.shape[0]\n",
        "        state = initial_state\n",
        "\n",
        "        # initial logits: always predict BOS\n",
        "        onehot_bos = F.one_hot(torch.full([batch_size], self.out_voc.bos_ix, dtype=torch.int64),\n",
        "                               num_classes=len(self.out_voc)).to(device=out_tokens.device)\n",
        "        first_logits = torch.log(onehot_bos.to(torch.float32) + 1e-9)\n",
        "\n",
        "        logits_sequence = [first_logits]\n",
        "        for i in range(out_tokens.shape[1] - 1):\n",
        "            state, logits = self.decode_step(state, out_tokens[:, i])\n",
        "            logits_sequence.append(logits)\n",
        "        return torch.stack(logits_sequence, dim=1)\n",
        "\n",
        "    def decode_inference(self, initial_state, max_len=100, **flags):\n",
        "        \"\"\" Generate translations from model (greedy version) \"\"\"\n",
        "        batch_size, device = len(initial_state[0]), initial_state[0].device\n",
        "        state = initial_state\n",
        "        outputs = [torch.full([batch_size], self.out_voc.bos_ix, dtype=torch.int64,\n",
        "                              device=device)]\n",
        "        all_states = [initial_state]\n",
        "\n",
        "        for i in range(max_len):\n",
        "            state, logits = self.decode_step(state, outputs[-1])\n",
        "            outputs.append(logits.argmax(dim=-1))\n",
        "            all_states.append(state)\n",
        "\n",
        "        return torch.stack(outputs, dim=1), all_states\n",
        "\n",
        "    def translate_lines(self, inp_lines, **kwargs):\n",
        "        inp = self.inp_voc.to_matrix(inp_lines).to(device)\n",
        "        initial_state = self.encode(inp)\n",
        "        out_ids, states = self.decode_inference(initial_state, **kwargs)\n",
        "        return self.out_voc.to_lines(out_ids.cpu().numpy()), states\n"
      ]
    },
    {
      "cell_type": "code",
      "execution_count": 10,
      "metadata": {
        "id": "gad_D3Ixfsjw"
      },
      "outputs": [],
      "source": [
        "# debugging area\n",
        "model = BasicModel(inp_voc, out_voc).to(device)\n",
        "\n",
        "dummy_inp_tokens = inp_voc.to_matrix(sorted(train_inp, key=len)[5:10]).to(device)\n",
        "dummy_out_tokens = out_voc.to_matrix(sorted(train_out, key=len)[5:10]).to(device)\n",
        "\n",
        "h0 = model.encode(dummy_inp_tokens)\n",
        "h1, logits1 = model.decode_step(h0, torch.arange(len(dummy_inp_tokens), device=device))\n",
        "\n",
        "assert isinstance(h1, list) and len(h1) == len(h0)\n",
        "assert h1[0].shape == h0[0].shape and not torch.allclose(h1[0], h0[0])\n",
        "assert logits1.shape == (len(dummy_inp_tokens), len(out_voc))\n",
        "\n",
        "logits_seq = model.decode(h0, dummy_out_tokens)\n",
        "assert logits_seq.shape == (dummy_out_tokens.shape[0], dummy_out_tokens.shape[1], len(out_voc))\n",
        "\n",
        "# full forward\n",
        "logits_seq2 = model(dummy_inp_tokens, dummy_out_tokens)\n",
        "assert logits_seq2.shape == logits_seq.shape"
      ]
    },
    {
      "cell_type": "code",
      "execution_count": 11,
      "metadata": {
        "colab": {
          "base_uri": "https://localhost:8080/"
        },
        "id": "1fqWhwgvfsjw",
        "outputId": "17254c66-91f8-4af5-86a1-1ec6c3079f62"
      },
      "outputs": [
        {
          "output_type": "stream",
          "name": "stdout",
          "text": [
            "Translations without training:\n",
            "balcon@@ music movie carlos riga rafa@@ las@@ fellini staircase pat@@ these rur@@ tir@@ albergue sir@@ kou lat@@ maison southern ders southern ders xii ders fire@@\n",
            "balcon@@ music rel@@ tain@@ luis gimpo rol edin@@ winter nest@@ klo@@ cino penthouse corri@@ erc@@ estre movi@@ n@@ rooftop mu@@ acional luis garten york@@ newspaper\n",
            "balcon@@ music treat fas@@ urs dis possibilities gimpo rol hostal omo dun@@ landgasthof mo burning polyana polyana span@@ triple asp@@ triple ral tor@@ pat@@ cap\n"
          ]
        }
      ],
      "source": [
        "dummy_translations, dummy_states = model.translate_lines(train_inp[:3], max_len=25)\n",
        "print(\"Translations without training:\")\n",
        "print('\\n'.join([line for line in dummy_translations]))"
      ]
    },
    {
      "cell_type": "markdown",
      "metadata": {
        "id": "_wuv1-aVlrs0"
      },
      "source": [
        "### Training loss (2 points)\n",
        "\n",
        "Our training objective is almost the same as it was for neural language models:\n",
        "$$ L = {\\frac1{|D|}} \\sum_{X, Y \\in D} \\sum_{y_t \\in Y} - \\log p(y_t \\mid y_1, \\dots, y_{t-1}, X, \\theta) $$\n",
        "\n",
        "where $|D|$ is the __total length of all sequences__, including BOS and first EOS, but excluding PAD."
      ]
    },
    {
      "cell_type": "code",
      "execution_count": 12,
      "metadata": {
        "id": "c8XPV8sWlrs5",
        "scrolled": true
      },
      "outputs": [],
      "source": [
        "\n",
        "def compute_loss(model, inp, out, **flags):\n",
        "    \"\"\"\n",
        "    Compute loss (float32 scalar) as in the formula above\n",
        "    :param inp: input tokens matrix, int32[batch, time]\n",
        "    :param out: reference tokens matrix, int32[batch, time]\n",
        "\n",
        "    In order to pass the tests, your function should\n",
        "    * include loss at first EOS but not the subsequent ones\n",
        "    * divide sum of losses by a sum of input lengths (use voc.compute_mask)\n",
        "    \"\"\"\n",
        "    mask = model.out_voc.compute_mask(out) # [batch_size, out_len]\n",
        "    targets_1hot = F.one_hot(out, len(model.out_voc)).to(torch.float32)\n",
        "\n",
        "    # outputs of the model, [batch_size, out_len, num_tokens]\n",
        "    logits_seq = model(inp, out)\n",
        "\n",
        "    # log-probabilities of all tokens at all steps, [batch_size, out_len, num_tokens]\n",
        "    logprobs_seq = torch.log_softmax(logits_seq, dim=-1)\n",
        "\n",
        "    # log-probabilities of correct outputs, [batch_size, out_len]\n",
        "    logp_out = (logprobs_seq * targets_1hot).sum(dim=-1)\n",
        "    # ^-- this will select the probability of the actual next token.\n",
        "    # Note: you can compute loss more efficiently using using F.cross_entropy\n",
        "\n",
        "    # average cross-entropy over tokens where mask == True\n",
        "    return -logp_out[mask].mean() # average loss, scalar"
      ]
    },
    {
      "cell_type": "code",
      "execution_count": 13,
      "metadata": {
        "colab": {
          "base_uri": "https://localhost:8080/"
        },
        "id": "ME_LWUeklrs7",
        "outputId": "ca9624ce-fe47-4d63-bd14-6870edc8f83a"
      },
      "outputs": [
        {
          "output_type": "stream",
          "name": "stdout",
          "text": [
            "Loss: tensor(7.4812, device='cuda:0', grad_fn=<NegBackward0>)\n"
          ]
        }
      ],
      "source": [
        "dummy_loss = compute_loss(model, dummy_inp_tokens, dummy_out_tokens)\n",
        "print(\"Loss:\", dummy_loss)\n",
        "assert np.allclose(dummy_loss.item(), 7.5, rtol=0.1, atol=0.1), \"We're sorry for your loss\"\n",
        "\n",
        "# test autograd\n",
        "dummy_loss.backward()\n",
        "for name, param in model.named_parameters():\n",
        "    assert param.grad is not None and abs(param.grad.max()) != 0, f\"Param {name} received no gradients\""
      ]
    },
    {
      "cell_type": "markdown",
      "metadata": {
        "id": "HpbaBpW7lrs-"
      },
      "source": [
        "### Evaluation: BLEU\n",
        "\n",
        "Machine translation is commonly evaluated with [BLEU](https://en.wikipedia.org/wiki/BLEU) score. This metric simply computes which fraction of predicted n-grams is actually present in the reference translation. It does so for n=1,2,3 and 4 and computes the geometric average with penalty if translation is shorter than reference.\n",
        "\n",
        "While BLEU [has many drawbacks](http://www.cs.jhu.edu/~ccb/publications/re-evaluating-the-role-of-bleu-in-mt-research.pdf), it still remains the most commonly used metric and one of the simplest to compute."
      ]
    },
    {
      "cell_type": "code",
      "execution_count": 14,
      "metadata": {
        "id": "Gb1-PhKIlrs-"
      },
      "outputs": [],
      "source": [
        "from nltk.translate.bleu_score import corpus_bleu\n",
        "def compute_bleu(model, inp_lines, out_lines, bpe_sep='@@ ', **flags):\n",
        "    \"\"\"\n",
        "    Estimates corpora-level BLEU score of model's translations given inp and reference out\n",
        "    Note: if you're serious about reporting your results, use https://pypi.org/project/sacrebleu\n",
        "    \"\"\"\n",
        "    with torch.no_grad():\n",
        "        translations, _ = model.translate_lines(inp_lines, **flags)\n",
        "        translations = [line.replace(bpe_sep, '') for line in translations]\n",
        "        actual = [line.replace(bpe_sep, '') for line in out_lines]\n",
        "        return corpus_bleu(\n",
        "            [[ref.split()] for ref in actual],\n",
        "            [trans.split() for trans in translations],\n",
        "            smoothing_function=lambda precisions, **kw: [p + 1.0 / p.denominator for p in precisions]\n",
        "            ) * 100"
      ]
    },
    {
      "cell_type": "code",
      "execution_count": 15,
      "metadata": {
        "colab": {
          "base_uri": "https://localhost:8080/"
        },
        "id": "gZvfid1RlrtA",
        "outputId": "854d9185-c19e-469c-91e8-438c0cb2dc1a"
      },
      "outputs": [
        {
          "output_type": "execute_result",
          "data": {
            "text/plain": [
              "0.0021391782206116347"
            ]
          },
          "metadata": {},
          "execution_count": 15
        }
      ],
      "source": [
        "compute_bleu(model, dev_inp, dev_out)"
      ]
    },
    {
      "cell_type": "markdown",
      "metadata": {
        "id": "nQDhGwg4lrtC"
      },
      "source": [
        "### Training loop\n",
        "\n",
        "Training encoder-decoder models isn't that different from any other models: sample batches, compute loss, backprop and update"
      ]
    },
    {
      "cell_type": "code",
      "execution_count": 16,
      "metadata": {
        "id": "yfwIaixHlrtI",
        "scrolled": false
      },
      "outputs": [],
      "source": [
        "from IPython.display import clear_output\n",
        "from tqdm import tqdm, trange\n",
        "metrics = {'train_loss': [], 'dev_bleu': [] }\n",
        "\n",
        "model = BasicModel(inp_voc, out_voc).to(device)\n",
        "opt = torch.optim.Adam(model.parameters(), lr=1e-3)\n",
        "batch_size = 32"
      ]
    },
    {
      "cell_type": "code",
      "execution_count": 17,
      "metadata": {
        "colab": {
          "base_uri": "https://localhost:8080/",
          "height": 373
        },
        "id": "LlDT6eDUlrtL",
        "scrolled": true,
        "outputId": "672ef75e-19fe-458d-c5ed-a7afb680c643"
      },
      "outputs": [
        {
          "output_type": "stream",
          "name": "stderr",
          "text": [
            "  0%|          | 97/25000 [00:03<17:05, 24.28it/s]\n"
          ]
        },
        {
          "output_type": "error",
          "ename": "KeyboardInterrupt",
          "evalue": "",
          "traceback": [
            "\u001b[0;31m---------------------------------------------------------------------------\u001b[0m",
            "\u001b[0;31mKeyboardInterrupt\u001b[0m                         Traceback (most recent call last)",
            "\u001b[0;32m<ipython-input-17-787542d03427>\u001b[0m in \u001b[0;36m<cell line: 1>\u001b[0;34m()\u001b[0m\n\u001b[1;32m      7\u001b[0m     \u001b[0mloss_t\u001b[0m \u001b[0;34m=\u001b[0m \u001b[0mcompute_loss\u001b[0m\u001b[0;34m(\u001b[0m\u001b[0mmodel\u001b[0m\u001b[0;34m,\u001b[0m \u001b[0mbatch_inp\u001b[0m\u001b[0;34m,\u001b[0m \u001b[0mbatch_out\u001b[0m\u001b[0;34m)\u001b[0m\u001b[0;34m\u001b[0m\u001b[0;34m\u001b[0m\u001b[0m\n\u001b[1;32m      8\u001b[0m     \u001b[0mopt\u001b[0m\u001b[0;34m.\u001b[0m\u001b[0mzero_grad\u001b[0m\u001b[0;34m(\u001b[0m\u001b[0;34m)\u001b[0m\u001b[0;34m\u001b[0m\u001b[0;34m\u001b[0m\u001b[0m\n\u001b[0;32m----> 9\u001b[0;31m     \u001b[0mloss_t\u001b[0m\u001b[0;34m.\u001b[0m\u001b[0mbackward\u001b[0m\u001b[0;34m(\u001b[0m\u001b[0;34m)\u001b[0m\u001b[0;34m\u001b[0m\u001b[0;34m\u001b[0m\u001b[0m\n\u001b[0m\u001b[1;32m     10\u001b[0m     \u001b[0mopt\u001b[0m\u001b[0;34m.\u001b[0m\u001b[0mstep\u001b[0m\u001b[0;34m(\u001b[0m\u001b[0;34m)\u001b[0m\u001b[0;34m\u001b[0m\u001b[0;34m\u001b[0m\u001b[0m\n\u001b[1;32m     11\u001b[0m \u001b[0;34m\u001b[0m\u001b[0m\n",
            "\u001b[0;32m/usr/local/lib/python3.10/dist-packages/torch/_tensor.py\u001b[0m in \u001b[0;36mbackward\u001b[0;34m(self, gradient, retain_graph, create_graph, inputs)\u001b[0m\n\u001b[1;32m    523\u001b[0m                 \u001b[0minputs\u001b[0m\u001b[0;34m=\u001b[0m\u001b[0minputs\u001b[0m\u001b[0;34m,\u001b[0m\u001b[0;34m\u001b[0m\u001b[0;34m\u001b[0m\u001b[0m\n\u001b[1;32m    524\u001b[0m             )\n\u001b[0;32m--> 525\u001b[0;31m         torch.autograd.backward(\n\u001b[0m\u001b[1;32m    526\u001b[0m             \u001b[0mself\u001b[0m\u001b[0;34m,\u001b[0m \u001b[0mgradient\u001b[0m\u001b[0;34m,\u001b[0m \u001b[0mretain_graph\u001b[0m\u001b[0;34m,\u001b[0m \u001b[0mcreate_graph\u001b[0m\u001b[0;34m,\u001b[0m \u001b[0minputs\u001b[0m\u001b[0;34m=\u001b[0m\u001b[0minputs\u001b[0m\u001b[0;34m\u001b[0m\u001b[0;34m\u001b[0m\u001b[0m\n\u001b[1;32m    527\u001b[0m         )\n",
            "\u001b[0;32m/usr/local/lib/python3.10/dist-packages/torch/autograd/__init__.py\u001b[0m in \u001b[0;36mbackward\u001b[0;34m(tensors, grad_tensors, retain_graph, create_graph, grad_variables, inputs)\u001b[0m\n\u001b[1;32m    265\u001b[0m     \u001b[0;31m# some Python versions print out the first line of a multi-line function\u001b[0m\u001b[0;34m\u001b[0m\u001b[0;34m\u001b[0m\u001b[0m\n\u001b[1;32m    266\u001b[0m     \u001b[0;31m# calls in the traceback and some print out the last line\u001b[0m\u001b[0;34m\u001b[0m\u001b[0;34m\u001b[0m\u001b[0m\n\u001b[0;32m--> 267\u001b[0;31m     _engine_run_backward(\n\u001b[0m\u001b[1;32m    268\u001b[0m         \u001b[0mtensors\u001b[0m\u001b[0;34m,\u001b[0m\u001b[0;34m\u001b[0m\u001b[0;34m\u001b[0m\u001b[0m\n\u001b[1;32m    269\u001b[0m         \u001b[0mgrad_tensors_\u001b[0m\u001b[0;34m,\u001b[0m\u001b[0;34m\u001b[0m\u001b[0;34m\u001b[0m\u001b[0m\n",
            "\u001b[0;32m/usr/local/lib/python3.10/dist-packages/torch/autograd/graph.py\u001b[0m in \u001b[0;36m_engine_run_backward\u001b[0;34m(t_outputs, *args, **kwargs)\u001b[0m\n\u001b[1;32m    742\u001b[0m         \u001b[0munregister_hooks\u001b[0m \u001b[0;34m=\u001b[0m \u001b[0m_register_logging_hooks_on_whole_graph\u001b[0m\u001b[0;34m(\u001b[0m\u001b[0mt_outputs\u001b[0m\u001b[0;34m)\u001b[0m\u001b[0;34m\u001b[0m\u001b[0;34m\u001b[0m\u001b[0m\n\u001b[1;32m    743\u001b[0m     \u001b[0;32mtry\u001b[0m\u001b[0;34m:\u001b[0m\u001b[0;34m\u001b[0m\u001b[0;34m\u001b[0m\u001b[0m\n\u001b[0;32m--> 744\u001b[0;31m         return Variable._execution_engine.run_backward(  # Calls into the C++ engine to run the backward pass\n\u001b[0m\u001b[1;32m    745\u001b[0m             \u001b[0mt_outputs\u001b[0m\u001b[0;34m,\u001b[0m \u001b[0;34m*\u001b[0m\u001b[0margs\u001b[0m\u001b[0;34m,\u001b[0m \u001b[0;34m**\u001b[0m\u001b[0mkwargs\u001b[0m\u001b[0;34m\u001b[0m\u001b[0;34m\u001b[0m\u001b[0m\n\u001b[1;32m    746\u001b[0m         )  # Calls into the C++ engine to run the backward pass\n",
            "\u001b[0;31mKeyboardInterrupt\u001b[0m: "
          ]
        }
      ],
      "source": [
        "for _ in trange(25000):\n",
        "    step = len(metrics['train_loss']) + 1\n",
        "    batch_ix = np.random.randint(len(train_inp), size=batch_size)\n",
        "    batch_inp = inp_voc.to_matrix(train_inp[batch_ix]).to(device)\n",
        "    batch_out = out_voc.to_matrix(train_out[batch_ix]).to(device)\n",
        "\n",
        "    loss_t = compute_loss(model, batch_inp, batch_out)\n",
        "    opt.zero_grad()\n",
        "    loss_t.backward()\n",
        "    opt.step()\n",
        "\n",
        "    metrics['train_loss'].append((step, loss_t.item()))\n",
        "\n",
        "    if step % 100 == 0:\n",
        "        metrics['dev_bleu'].append((step, compute_bleu(model, dev_inp, dev_out)))\n",
        "\n",
        "        clear_output(True)\n",
        "        plt.figure(figsize=(12,4))\n",
        "        for i, (name, history) in enumerate(sorted(metrics.items())):\n",
        "            plt.subplot(1, len(metrics), i + 1)\n",
        "            plt.title(name)\n",
        "            plt.plot(*zip(*history))\n",
        "            plt.grid()\n",
        "        plt.show()\n",
        "        print(\"Mean loss=%.3f\" % np.mean(metrics['train_loss'][-10:], axis=0)[1], flush=True)"
      ]
    },
    {
      "cell_type": "code",
      "execution_count": 18,
      "metadata": {
        "colab": {
          "base_uri": "https://localhost:8080/",
          "height": 211
        },
        "id": "2ahuhKVhlrtP",
        "outputId": "c8dfccb3-6e3e-44d3-bb12-407bf9e2c4f3"
      },
      "outputs": [
        {
          "output_type": "stream",
          "name": "stderr",
          "text": [
            "/usr/local/lib/python3.10/dist-packages/numpy/core/fromnumeric.py:3504: RuntimeWarning: Mean of empty slice.\n",
            "  return _methods._mean(a, axis=axis, dtype=dtype,\n",
            "/usr/local/lib/python3.10/dist-packages/numpy/core/_methods.py:129: RuntimeWarning: invalid value encountered in scalar divide\n",
            "  ret = ret.dtype.type(ret / rcount)\n"
          ]
        },
        {
          "output_type": "error",
          "ename": "IndexError",
          "evalue": "invalid index to scalar variable.",
          "traceback": [
            "\u001b[0;31m---------------------------------------------------------------------------\u001b[0m",
            "\u001b[0;31mIndexError\u001b[0m                                Traceback (most recent call last)",
            "\u001b[0;32m<ipython-input-18-12b3cc145a24>\u001b[0m in \u001b[0;36m<cell line: 1>\u001b[0;34m()\u001b[0m\n\u001b[0;32m----> 1\u001b[0;31m \u001b[0;32massert\u001b[0m \u001b[0mnp\u001b[0m\u001b[0;34m.\u001b[0m\u001b[0mmean\u001b[0m\u001b[0;34m(\u001b[0m\u001b[0mmetrics\u001b[0m\u001b[0;34m[\u001b[0m\u001b[0;34m'dev_bleu'\u001b[0m\u001b[0;34m]\u001b[0m\u001b[0;34m[\u001b[0m\u001b[0;34m-\u001b[0m\u001b[0;36m10\u001b[0m\u001b[0;34m:\u001b[0m\u001b[0;34m]\u001b[0m\u001b[0;34m,\u001b[0m \u001b[0maxis\u001b[0m\u001b[0;34m=\u001b[0m\u001b[0;36m0\u001b[0m\u001b[0;34m)\u001b[0m\u001b[0;34m[\u001b[0m\u001b[0;36m1\u001b[0m\u001b[0;34m]\u001b[0m \u001b[0;34m>\u001b[0m \u001b[0;36m15\u001b[0m\u001b[0;34m,\u001b[0m \u001b[0;34m\"We kind of need a higher bleu BLEU from you. Kind of right now.\"\u001b[0m\u001b[0;34m\u001b[0m\u001b[0;34m\u001b[0m\u001b[0m\n\u001b[0m",
            "\u001b[0;31mIndexError\u001b[0m: invalid index to scalar variable."
          ]
        }
      ],
      "source": [
        "assert np.mean(metrics['dev_bleu'][-10:], axis=0)[1] > 15, \"We kind of need a higher bleu BLEU from you. Kind of right now.\""
      ]
    },
    {
      "cell_type": "code",
      "execution_count": 17,
      "metadata": {
        "colab": {
          "base_uri": "https://localhost:8080/"
        },
        "id": "KyaHOpealrtS",
        "outputId": "b49d1b4c-3123-4517-8213-bb4022afda0f"
      },
      "outputs": [
        {
          "output_type": "stream",
          "name": "stdout",
          "text": [
            "в распоряжении гостей общая кухня и общая гостиная .\n",
            "butt@@ haus@@ bavarian evening iv@@ vegetation historical oxford e oxford class@@ bet@@ aro@@ plo@@ hann@@ to@@ bast@@ gorges popular popular lick chan for@@ groceries jing@@ zal@@ hangzhou yard arm@@ conditioned adjoining hue hue bä@@ appartement shel@@ du@@ onsen sj@@ wind@@ bicycles ud ding wood@@ 850 lech hikkaduwa san uru launderette corte år@@ ciampino strana bor ingh@@ ciampino til ghai karlov@@ siam uten fame fame fame anti@@ decor ud b wood@@ regional cke termini aipur mem@@ t@@ aipur pilgri@@ manu@@ sten@@ th inver@@ ch@@ festivals terra cione riverside sur@@ north@@ dur@@ markt native ch@@ lick chan for@@ groceries jing@@ zal@@ hangzhou\n",
            "\n",
            "кроме того , предоставляется прокат велосипедов , услуги трансфера и бесплатная парковка .\n",
            "butt@@ haus@@ bavarian evening iv@@ vegetation historical oxford e oxford class@@ bet@@ aro@@ plo@@ hann@@ to@@ bast@@ gorges popular popular lick chan for@@ groceries jing@@ zal@@ hangzhou yard arm@@ conditioned adjoining hue hue bä@@ appartement shel@@ du@@ onsen sj@@ wind@@ bicycles ud ding wood@@ 850 lech hikkaduwa san uru launderette corte år@@ ciampino strana bor ingh@@ ciampino til ghai karlov@@ siam uten fame fame fame anti@@ decor ud b wood@@ regional cke termini aipur mem@@ t@@ aipur pilgri@@ manu@@ sten@@ th inver@@ ch@@ festivals terra cione riverside sur@@ north@@ dur@@ markt native ch@@ lick chan for@@ groceries jing@@ zal@@ hangzhou\n",
            "\n",
            "расстояние до города ки@@ сси@@ м@@ ми составляет 26 км .\n",
            "butt@@ haus@@ bavarian evening iv@@ vegetation historical oxford e oxford class@@ bet@@ aro@@ plo@@ hann@@ to@@ bast@@ gorges popular popular lick chan for@@ groceries jing@@ zal@@ hangzhou yard arm@@ conditioned adjoining hue hue bä@@ appartement shel@@ du@@ onsen sj@@ wind@@ bicycles ud ding wood@@ 850 lech hikkaduwa san uru launderette corte år@@ ciampino strana bor ingh@@ ciampino til ghai karlov@@ siam uten fame fame fame anti@@ decor ud b wood@@ regional cke termini aipur mem@@ t@@ aipur pilgri@@ manu@@ sten@@ th inver@@ ch@@ festivals terra cione riverside sur@@ north@@ dur@@ markt native ch@@ lick chan for@@ groceries jing@@ zal@@ hangzhou\n",
            "\n",
            "апартаменты в пент@@ хаусе с общим открытым бассейном , садом , кондиционером и террасой для загара расположены в 5 минутах ходьбы от пляжа на курорте ка@@ бо - рой .\n",
            "butt@@ haus@@ bavarian evening iv@@ vegetation historical oxford e oxford class@@ bet@@ aro@@ plo@@ hann@@ to@@ bast@@ gorges popular popular lick chan for@@ groceries jing@@ zal@@ hangzhou yard arm@@ conditioned adjoining hue hue bä@@ appartement shel@@ du@@ onsen sj@@ wind@@ bicycles ud ding wood@@ 850 lech hikkaduwa san uru launderette corte år@@ ciampino strana bor ingh@@ ciampino til ghai karlov@@ siam uten fame fame fame anti@@ decor ud b wood@@ regional cke termini aipur mem@@ t@@ aipur pilgri@@ manu@@ sten@@ th inver@@ ch@@ festivals terra cione riverside sur@@ north@@ dur@@ markt native ch@@ lick chan for@@ groceries jing@@ zal@@ hangzhou\n",
            "\n",
            "апартаменты mo@@ s@@ co@@ w point - loft red square находятся в москве , в 200 метрах от большого театра .\n",
            "butt@@ haus@@ bavarian evening iv@@ vegetation historical oxford e oxford class@@ bet@@ aro@@ plo@@ hann@@ to@@ bast@@ gorges popular popular lick chan for@@ groceries jing@@ zal@@ hangzhou yard arm@@ conditioned adjoining hue hue bä@@ appartement shel@@ du@@ onsen sj@@ wind@@ bicycles ud ding wood@@ 850 lech hikkaduwa san uru launderette corte år@@ ciampino strana bor ingh@@ ciampino til ghai karlov@@ siam uten fame fame fame anti@@ decor ud b wood@@ regional cke termini aipur mem@@ t@@ aipur pilgri@@ manu@@ sten@@ th inver@@ ch@@ festivals terra cione riverside sur@@ north@@ dur@@ markt native ch@@ lick chan for@@ groceries jing@@ zal@@ hangzhou\n",
            "\n",
            "в вашем распоряжении собственная ванная комната с душем и полотенцами .\n",
            "butt@@ republic ho@@ straß@@ architecture airs modern@@ loungers ist@@ time med b ciampino suk@@ â 14 giu@@ acks freshly jet@@ august ak@@ cun@@ cathe@@ hann@@ mir classical meg@@ meg@@ elefthérios meg@@ william ö@@ porto airs sol@@ age kok ather sol@@ age fiel@@ wer@@ shel@@ hut par@@ bad napo@@ ern 2@@ eating eating adjoining du@@ onsen ü v@@ feld aré orchard hairdresser shel@@ shel@@ du@@ onsen sj@@ wind@@ bicycles ud ding wood@@ 850 lech hikkaduwa san uru launderette corte år@@ ciampino strana bor ingh@@ ciampino til ghai karlov@@ siam uten fame fame fame anti@@ decor ud b wood@@ regional cke termini\n",
            "\n"
          ]
        }
      ],
      "source": [
        "for inp_line, trans_line in zip(dev_inp[::500], model.translate_lines(dev_inp[::500])[0]):\n",
        "    print(inp_line)\n",
        "    print(trans_line)\n",
        "    print()"
      ]
    },
    {
      "cell_type": "markdown",
      "metadata": {
        "id": "edk_oVg0lrtW"
      },
      "source": [
        "### Your Attention Required\n",
        "\n",
        "In this section we want you to improve over the basic model by implementing a simple attention mechanism.\n",
        "\n",
        "This is gonna be a two-parter: building the __attention layer__ and using it for an __attentive seq2seq model__."
      ]
    },
    {
      "cell_type": "markdown",
      "metadata": {
        "id": "Qz9aROAIlrtX"
      },
      "source": [
        "### Attention layer (3 points)\n",
        "\n",
        "Here you will have to implement a layer that computes a simple additive attention:\n",
        "\n",
        "Given encoder sequence $ h^e_0, h^e_1, h^e_2, ..., h^e_T$ and a single decoder state $h^d$,\n",
        "\n",
        "* Compute logits with a 2-layer neural network\n",
        "$$a_t = linear_{out}(tanh(linear_{e}(h^e_t) + linear_{d}(h_d)))$$\n",
        "* Get probabilities from logits,\n",
        "$$ p_t = {{e ^ {a_t}} \\over { \\sum_\\tau e^{a_\\tau} }} $$\n",
        "\n",
        "* Add up encoder states with probabilities to get __attention response__\n",
        "$$ attn = \\sum_t p_t \\cdot h^e_t $$\n",
        "\n",
        "You can learn more about attention layers in the lecture slides or [from this post](https://distill.pub/2016/augmented-rnns/)."
      ]
    },
    {
      "cell_type": "code",
      "source": [
        "x = torch.tensor([[1,2,3],[3,4,5]])\n",
        "y = torch.tensor([[1], [3]])\n",
        "print(x.shape, y.shape)\n",
        "print(x * y)\n",
        "x = x.unsqueeze(1).expand(2, 1, 3)\n",
        "x.shape[1]\n",
        "print(x.shape)"
      ],
      "metadata": {
        "colab": {
          "base_uri": "https://localhost:8080/"
        },
        "id": "lpz4uJ-_n8lT",
        "outputId": "650cd19d-c9e5-4641-c9ce-89050cacaf8a"
      },
      "execution_count": 18,
      "outputs": [
        {
          "output_type": "stream",
          "name": "stdout",
          "text": [
            "torch.Size([2, 3]) torch.Size([2, 1])\n",
            "tensor([[ 1,  2,  3],\n",
            "        [ 9, 12, 15]])\n",
            "torch.Size([2, 1, 3])\n"
          ]
        }
      ]
    },
    {
      "cell_type": "code",
      "source": [
        "\n",
        "\n",
        "print(y.shape)\n",
        "y = y.squeeze(-1)\n",
        "print(y.shape)"
      ],
      "metadata": {
        "colab": {
          "base_uri": "https://localhost:8080/"
        },
        "id": "WYHXQrJudvkn",
        "outputId": "39df3f21-2d35-43f7-e07b-e184bfbb280c"
      },
      "execution_count": 19,
      "outputs": [
        {
          "output_type": "stream",
          "name": "stdout",
          "text": [
            "torch.Size([2, 1])\n",
            "torch.Size([2])\n"
          ]
        }
      ]
    },
    {
      "cell_type": "code",
      "source": [
        "torch.zeros(3,2,1).squeeze()"
      ],
      "metadata": {
        "colab": {
          "base_uri": "https://localhost:8080/"
        },
        "id": "oM8xau2Hryqu",
        "outputId": "fbd2f540-39e8-4cca-bf4e-3c279a70da6b"
      },
      "execution_count": 20,
      "outputs": [
        {
          "output_type": "execute_result",
          "data": {
            "text/plain": [
              "tensor([[0., 0.],\n",
              "        [0., 0.],\n",
              "        [0., 0.]])"
            ]
          },
          "metadata": {},
          "execution_count": 20
        }
      ]
    },
    {
      "cell_type": "code",
      "execution_count": 29,
      "metadata": {
        "id": "rXYJFsPsfsjy"
      },
      "outputs": [],
      "source": [
        "class AttentionLayer(nn.Module):\n",
        "    def __init__(self, name, enc_size, dec_size, hid_size, activ=torch.tanh):\n",
        "        \"\"\" A layer that computes additive attention response and weights \"\"\"\n",
        "        super().__init__()\n",
        "        self.name = name\n",
        "        self.enc_size = enc_size # num units in encoder state\n",
        "        self.dec_size = dec_size # num units in decoder state\n",
        "        self.hid_size = hid_size # attention layer hidden units\n",
        "        self.activ = activ       # attention layer hidden nonlinearity\n",
        "\n",
        "        # create trainable paramteres like this:\n",
        "        self.lin_enc = nn.Linear(enc_size, hid_size)\n",
        "        self.lin_dec = nn.Linear(dec_size, hid_size)\n",
        "        self.act = nn.Tanh()\n",
        "        self.lin_fin = nn.Linear(hid_size, 1)\n",
        "\n",
        "        #self.<PARAMETER_NAME> = nn.Parameter(<INITIAL_VALUES>, requires_grad=True)\n",
        "        #<...>  # you will need a couple of these\n",
        "\n",
        "\n",
        "    def forward(self, enc, dec, inp_mask):\n",
        "        \"\"\"\n",
        "        Computes attention response and weights\n",
        "        :param enc: encoder activation sequence, float32[batch_size, ninp, enc_size]\n",
        "        :param dec: single decoder state used as \"query\", float32[batch_size, dec_size]\n",
        "        :param inp_mask: mask on enc activatons (0 after first eos), float32 [batch_size, ninp]\n",
        "        :returns: attn[batch_size, enc_size], probs[batch_size, ninp]\n",
        "            - attn - attention response vector (weighted sum of enc)\n",
        "            - probs - attention weights after softmax\n",
        "        \"\"\"\n",
        "\n",
        "        # Compute logits\n",
        "        enc = self.lin_enc(enc)\n",
        "        dec = self.lin_dec(dec)\n",
        "        dec = dec.unsqueeze(1).expand(dec.shape[0], 1, dec.shape[-1])\n",
        "\n",
        "        lin = enc + dec\n",
        "        lin = self.act(lin)\n",
        "        lin = self.lin_fin(lin)\n",
        "        lin = lin.squeeze(-1).to(device)\n",
        "\n",
        "        # Apply mask - if mask is 0, logits should be -inf or -1e9\n",
        "        # You may need torch.where\n",
        "        inf_mask = torch.zeros(inp_mask.shape)\n",
        "        inf_mask = inf_mask.to(device)\n",
        "\n",
        "        inp_mask = torch.where((inp_mask == 0), inf_mask, lin)\n",
        "\n",
        "        # Compute attention probabilities (softmax)\n",
        "        probs = F.softmax(inp_mask, dim = -1) # batch, ninp\n",
        "\n",
        "        # Compute attention response using enc and probs\n",
        "        mask_enc = probs.unsqueeze(-1) * enc # [batch_size, ninp, enc_size]\n",
        "        attn = mask_enc.sum(1) #[batch_size, enc_size]\n",
        "\n",
        "        return attn, probs"
      ]
    },
    {
      "cell_type": "markdown",
      "metadata": {
        "id": "IalfpdAelrtb"
      },
      "source": [
        "### Seq2seq model with attention (3 points)\n",
        "\n",
        "You can now use the attention layer to build a network. The simplest way to implement attention is to use it in decoder phase:\n",
        "![img](https://i.imgur.com/6fKHlHb.png)\n",
        "_image from distill.pub [article](https://distill.pub/2016/augmented-rnns/)_\n",
        "\n",
        "On every step, use __previous__ decoder state to obtain attention response. Then feed concat this response to the inputs of next attention layer.\n",
        "\n",
        "The key implementation detail here is __model state__. Put simply, you can add any tensor into the list of `encode` outputs. You will then have access to them at each `decode` step. This may include:\n",
        "* Last RNN hidden states (as in basic model)\n",
        "* The whole sequence of encoder outputs (to attend to) and mask\n",
        "* Attention probabilities (to visualize)\n",
        "\n",
        "_There are, of course, alternative ways to wire attention into your network and different kinds of attention. Take a look at [this](https://arxiv.org/abs/1609.08144), [this](https://arxiv.org/abs/1706.03762) and [this](https://arxiv.org/abs/1808.03867) for ideas. And for image captioning/im2latex there's [visual attention](https://arxiv.org/abs/1502.03044)_"
      ]
    },
    {
      "cell_type": "code",
      "execution_count": 30,
      "metadata": {
        "id": "NCKPB5JmcE6j"
      },
      "outputs": [],
      "source": [
        "class AttentiveModel(BasicModel):\n",
        "    def __init__(self, name, inp_voc, out_voc,\n",
        "                 emb_size=64, hid_size=128, attn_size=128):\n",
        "        \"\"\" Translation model that uses attention. See instructions above. \"\"\"\n",
        "        nn.Module.__init__(self)  # initialize base class to track sub-layers, trainable variables, etc.\n",
        "        self.inp_voc, self.out_voc = inp_voc, out_voc\n",
        "        self.hid_size = hid_size\n",
        "\n",
        "\n",
        "        self.emb_inp = nn.Embedding(len(inp_voc), emb_size)\n",
        "        self.emb_out = nn.Embedding(len(out_voc), emb_size)\n",
        "        self.enc0 = nn.GRU(emb_size, hid_size, batch_first=True)\n",
        "\n",
        "        self.dec_start = nn.Linear(hid_size, hid_size)\n",
        "        self.dec0 = nn.GRUCell(emb_size, hid_size) #size?\n",
        "        self.logits = nn.Linear(hid_size, len(out_voc))\n",
        "        self.attention = AttentionLayer(name, hid_size, hid_size, attn_size)\n",
        "\n",
        "    def encode(self, inp, **flags):\n",
        "        \"\"\"\n",
        "        Takes symbolic input sequence, computes initial state\n",
        "        :param inp: matrix of input tokens [batch, time]\n",
        "        :return: a list of initial decoder state tensors\n",
        "        \"\"\"\n",
        "        inp_emb = self.emb_inp(inp)\n",
        "        batch_size = inp.shape[0]\n",
        "\n",
        "        enc_seq, [last_state_but_not_really] = self.enc0(inp_emb)\n",
        "        # enc_seq: [batch, time, hid_size], last_state: [batch, hid_size]\n",
        "\n",
        "        # note: last_state is not _actually_ last because of padding, let's find the real last_state\n",
        "        lengths = (inp != self.inp_voc.eos_ix).to(torch.int64).sum(dim=1).clamp_max(inp.shape[1] - 1)\n",
        "        last_state = enc_seq[torch.arange(len(enc_seq)), lengths]\n",
        "        # ^-- shape: [batch_size, hid_size]\n",
        "\n",
        "        dec_start = self.dec_start(last_state)\n",
        "        inp_mask = self.inp_voc.compute_mask(inp).to(device)\n",
        "        attention_reponse, first_attn_probas = self.attention(enc_seq, dec_start, inp_mask)\n",
        "\n",
        "        return [dec_start, enc_seq, inp_mask, attention_reponse, first_attn_probas]\n",
        "\n",
        "\n",
        "        # apply attention layer from initial decoder hidden stat\n",
        "\n",
        "        # Build first state: include\n",
        "        # * initial states for decoder recurrent layers\n",
        "        # * encoder sequence and encoder attn mask (for attention)\n",
        "        # * make sure that last state item is attention probabilities tensor\n",
        "\n",
        "\n",
        "    def decode_step(self, prev_state, prev_tokens, **flags):\n",
        "        \"\"\"\n",
        "        Takes previous decoder state and tokens, returns new state and logits for next tokens\n",
        "        :param prev_state: a list of previous decoder state tensors\n",
        "        :param prev_tokens: previous output tokens, an int vector of [batch_size]\n",
        "        :return: a list of next decoder state tensors, a tensor of logits [batch, n_tokens]\n",
        "        \"\"\"\n",
        "        dec_start, enc_seq, inp_mask, attention_reponse, _ = prev_state\n",
        "        out_embs = self.emb_out(prev_tokens)\n",
        "        state_and_attn = dec_start + attention_reponse\n",
        "        log_outputs = self.dec0(out_embs, state_and_attn)\n",
        "        attention_reponse, first_attn_probas = self.attention(enc_seq, log_outputs, inp_mask)\n",
        "        output_logits = self.logits(log_outputs)\n",
        "        new_dec_state = [log_outputs, enc_seq, inp_mask, attention_reponse, first_attn_probas]\n",
        "        return [new_dec_state, output_logits]\n",
        "\n"
      ]
    },
    {
      "cell_type": "markdown",
      "metadata": {
        "id": "ryZCOTEslrtf"
      },
      "source": [
        "### Training attentive model\n",
        "\n",
        "Please reuse the infrastructure you've built for the regular model. I hope you didn't hard-code anything :)"
      ]
    },
    {
      "cell_type": "code",
      "execution_count": 31,
      "metadata": {
        "id": "-YMHPgZxcFaQ"
      },
      "outputs": [],
      "source": [
        "# <YOUR CODE: create AttentiveModel and training utilities>\n",
        "from IPython.display import clear_output\n",
        "from tqdm import tqdm, trange\n",
        "metrics = {'train_loss': [], 'dev_bleu': [] }\n",
        "\n",
        "model = AttentiveModel('AttentiveModel', inp_voc, out_voc).to(device)\n",
        "opt = torch.optim.Adam(model.parameters(), lr=1e-3)\n",
        "batch_size = 32"
      ]
    },
    {
      "cell_type": "code",
      "execution_count": 32,
      "metadata": {
        "colab": {
          "base_uri": "https://localhost:8080/",
          "height": 765
        },
        "id": "ZHI85o6ifsjy",
        "outputId": "9f2156aa-8c87-435e-ac82-edfb4ba10972"
      },
      "outputs": [
        {
          "output_type": "display_data",
          "data": {
            "text/plain": [
              "<Figure size 1200x400 with 2 Axes>"
            ],
            "image/png": "[encoded data removed]"
          },
          "metadata": {}
        },
        {
          "output_type": "stream",
          "name": "stdout",
          "text": [
            "Mean loss=2.278\n"
          ]
        },
        {
          "output_type": "stream",
          "name": "stderr",
          "text": [
            " 34%|███▍      | 5086/15000 [10:22<20:14,  8.17it/s]  \n"
          ]
        },
        {
          "output_type": "error",
          "ename": "KeyboardInterrupt",
          "evalue": "",
          "traceback": [
            "\u001b[0;31m---------------------------------------------------------------------------\u001b[0m",
            "\u001b[0;31mKeyboardInterrupt\u001b[0m                         Traceback (most recent call last)",
            "\u001b[0;32m<ipython-input-32-57ee5a8eaa78>\u001b[0m in \u001b[0;36m<cell line: 3>\u001b[0;34m()\u001b[0m\n\u001b[1;32m      7\u001b[0m     \u001b[0mbatch_out\u001b[0m \u001b[0;34m=\u001b[0m \u001b[0mout_voc\u001b[0m\u001b[0;34m.\u001b[0m\u001b[0mto_matrix\u001b[0m\u001b[0;34m(\u001b[0m\u001b[0mtrain_out\u001b[0m\u001b[0;34m[\u001b[0m\u001b[0mbatch_ix\u001b[0m\u001b[0;34m]\u001b[0m\u001b[0;34m)\u001b[0m\u001b[0;34m.\u001b[0m\u001b[0mto\u001b[0m\u001b[0;34m(\u001b[0m\u001b[0mdevice\u001b[0m\u001b[0;34m)\u001b[0m\u001b[0;34m\u001b[0m\u001b[0;34m\u001b[0m\u001b[0m\n\u001b[1;32m      8\u001b[0m \u001b[0;34m\u001b[0m\u001b[0m\n\u001b[0;32m----> 9\u001b[0;31m     \u001b[0mloss_t\u001b[0m \u001b[0;34m=\u001b[0m \u001b[0mcompute_loss\u001b[0m\u001b[0;34m(\u001b[0m\u001b[0mmodel\u001b[0m\u001b[0;34m,\u001b[0m \u001b[0mbatch_inp\u001b[0m\u001b[0;34m,\u001b[0m \u001b[0mbatch_out\u001b[0m\u001b[0;34m)\u001b[0m\u001b[0;34m\u001b[0m\u001b[0;34m\u001b[0m\u001b[0m\n\u001b[0m\u001b[1;32m     10\u001b[0m     \u001b[0mopt\u001b[0m\u001b[0;34m.\u001b[0m\u001b[0mzero_grad\u001b[0m\u001b[0;34m(\u001b[0m\u001b[0;34m)\u001b[0m\u001b[0;34m\u001b[0m\u001b[0;34m\u001b[0m\u001b[0m\n\u001b[1;32m     11\u001b[0m     \u001b[0mloss_t\u001b[0m\u001b[0;34m.\u001b[0m\u001b[0mbackward\u001b[0m\u001b[0;34m(\u001b[0m\u001b[0;34m)\u001b[0m\u001b[0;34m\u001b[0m\u001b[0;34m\u001b[0m\u001b[0m\n",
            "\u001b[0;32m<ipython-input-12-0ad11c0ab347>\u001b[0m in \u001b[0;36mcompute_loss\u001b[0;34m(model, inp, out, **flags)\u001b[0m\n\u001b[1;32m     13\u001b[0m \u001b[0;34m\u001b[0m\u001b[0m\n\u001b[1;32m     14\u001b[0m     \u001b[0;31m# outputs of the model, [batch_size, out_len, num_tokens]\u001b[0m\u001b[0;34m\u001b[0m\u001b[0;34m\u001b[0m\u001b[0m\n\u001b[0;32m---> 15\u001b[0;31m     \u001b[0mlogits_seq\u001b[0m \u001b[0;34m=\u001b[0m \u001b[0mmodel\u001b[0m\u001b[0;34m(\u001b[0m\u001b[0minp\u001b[0m\u001b[0;34m,\u001b[0m \u001b[0mout\u001b[0m\u001b[0;34m)\u001b[0m\u001b[0;34m\u001b[0m\u001b[0;34m\u001b[0m\u001b[0m\n\u001b[0m\u001b[1;32m     16\u001b[0m \u001b[0;34m\u001b[0m\u001b[0m\n\u001b[1;32m     17\u001b[0m     \u001b[0;31m# log-probabilities of all tokens at all steps, [batch_size, out_len, num_tokens]\u001b[0m\u001b[0;34m\u001b[0m\u001b[0;34m\u001b[0m\u001b[0m\n",
            "\u001b[0;32m/usr/local/lib/python3.10/dist-packages/torch/nn/modules/module.py\u001b[0m in \u001b[0;36m_wrapped_call_impl\u001b[0;34m(self, *args, **kwargs)\u001b[0m\n\u001b[1;32m   1530\u001b[0m             \u001b[0;32mreturn\u001b[0m \u001b[0mself\u001b[0m\u001b[0;34m.\u001b[0m\u001b[0m_compiled_call_impl\u001b[0m\u001b[0;34m(\u001b[0m\u001b[0;34m*\u001b[0m\u001b[0margs\u001b[0m\u001b[0;34m,\u001b[0m \u001b[0;34m**\u001b[0m\u001b[0mkwargs\u001b[0m\u001b[0;34m)\u001b[0m  \u001b[0;31m# type: ignore[misc]\u001b[0m\u001b[0;34m\u001b[0m\u001b[0;34m\u001b[0m\u001b[0m\n\u001b[1;32m   1531\u001b[0m         \u001b[0;32melse\u001b[0m\u001b[0;34m:\u001b[0m\u001b[0;34m\u001b[0m\u001b[0;34m\u001b[0m\u001b[0m\n\u001b[0;32m-> 1532\u001b[0;31m             \u001b[0;32mreturn\u001b[0m \u001b[0mself\u001b[0m\u001b[0;34m.\u001b[0m\u001b[0m_call_impl\u001b[0m\u001b[0;34m(\u001b[0m\u001b[0;34m*\u001b[0m\u001b[0margs\u001b[0m\u001b[0;34m,\u001b[0m \u001b[0;34m**\u001b[0m\u001b[0mkwargs\u001b[0m\u001b[0;34m)\u001b[0m\u001b[0;34m\u001b[0m\u001b[0;34m\u001b[0m\u001b[0m\n\u001b[0m\u001b[1;32m   1533\u001b[0m \u001b[0;34m\u001b[0m\u001b[0m\n\u001b[1;32m   1534\u001b[0m     \u001b[0;32mdef\u001b[0m \u001b[0m_call_impl\u001b[0m\u001b[0;34m(\u001b[0m\u001b[0mself\u001b[0m\u001b[0;34m,\u001b[0m \u001b[0;34m*\u001b[0m\u001b[0margs\u001b[0m\u001b[0;34m,\u001b[0m \u001b[0;34m**\u001b[0m\u001b[0mkwargs\u001b[0m\u001b[0;34m)\u001b[0m\u001b[0;34m:\u001b[0m\u001b[0;34m\u001b[0m\u001b[0;34m\u001b[0m\u001b[0m\n",
            "\u001b[0;32m/usr/local/lib/python3.10/dist-packages/torch/nn/modules/module.py\u001b[0m in \u001b[0;36m_call_impl\u001b[0;34m(self, *args, **kwargs)\u001b[0m\n\u001b[1;32m   1539\u001b[0m                 \u001b[0;32mor\u001b[0m \u001b[0m_global_backward_pre_hooks\u001b[0m \u001b[0;32mor\u001b[0m \u001b[0m_global_backward_hooks\u001b[0m\u001b[0;34m\u001b[0m\u001b[0;34m\u001b[0m\u001b[0m\n\u001b[1;32m   1540\u001b[0m                 or _global_forward_hooks or _global_forward_pre_hooks):\n\u001b[0;32m-> 1541\u001b[0;31m             \u001b[0;32mreturn\u001b[0m \u001b[0mforward_call\u001b[0m\u001b[0;34m(\u001b[0m\u001b[0;34m*\u001b[0m\u001b[0margs\u001b[0m\u001b[0;34m,\u001b[0m \u001b[0;34m**\u001b[0m\u001b[0mkwargs\u001b[0m\u001b[0;34m)\u001b[0m\u001b[0;34m\u001b[0m\u001b[0;34m\u001b[0m\u001b[0m\n\u001b[0m\u001b[1;32m   1542\u001b[0m \u001b[0;34m\u001b[0m\u001b[0m\n\u001b[1;32m   1543\u001b[0m         \u001b[0;32mtry\u001b[0m\u001b[0;34m:\u001b[0m\u001b[0;34m\u001b[0m\u001b[0;34m\u001b[0m\u001b[0m\n",
            "\u001b[0;32m<ipython-input-9-2adfbdd8646d>\u001b[0m in \u001b[0;36mforward\u001b[0;34m(self, inp, out)\u001b[0m\n\u001b[1;32m     20\u001b[0m         \u001b[0;34m\"\"\" Apply model in training mode \"\"\"\u001b[0m\u001b[0;34m\u001b[0m\u001b[0;34m\u001b[0m\u001b[0m\n\u001b[1;32m     21\u001b[0m         \u001b[0minitial_state\u001b[0m \u001b[0;34m=\u001b[0m \u001b[0mself\u001b[0m\u001b[0;34m.\u001b[0m\u001b[0mencode\u001b[0m\u001b[0;34m(\u001b[0m\u001b[0minp\u001b[0m\u001b[0;34m)\u001b[0m\u001b[0;34m\u001b[0m\u001b[0;34m\u001b[0m\u001b[0m\n\u001b[0;32m---> 22\u001b[0;31m         \u001b[0;32mreturn\u001b[0m \u001b[0mself\u001b[0m\u001b[0;34m.\u001b[0m\u001b[0mdecode\u001b[0m\u001b[0;34m(\u001b[0m\u001b[0minitial_state\u001b[0m\u001b[0;34m,\u001b[0m \u001b[0mout\u001b[0m\u001b[0;34m)\u001b[0m\u001b[0;34m\u001b[0m\u001b[0;34m\u001b[0m\u001b[0m\n\u001b[0m\u001b[1;32m     23\u001b[0m \u001b[0;34m\u001b[0m\u001b[0m\n\u001b[1;32m     24\u001b[0m \u001b[0;34m\u001b[0m\u001b[0m\n",
            "\u001b[0;32m<ipython-input-9-2adfbdd8646d>\u001b[0m in \u001b[0;36mdecode\u001b[0;34m(self, initial_state, out_tokens, **flags)\u001b[0m\n\u001b[1;32m     71\u001b[0m         \u001b[0mlogits_sequence\u001b[0m \u001b[0;34m=\u001b[0m \u001b[0;34m[\u001b[0m\u001b[0mfirst_logits\u001b[0m\u001b[0;34m]\u001b[0m\u001b[0;34m\u001b[0m\u001b[0;34m\u001b[0m\u001b[0m\n\u001b[1;32m     72\u001b[0m         \u001b[0;32mfor\u001b[0m \u001b[0mi\u001b[0m \u001b[0;32min\u001b[0m \u001b[0mrange\u001b[0m\u001b[0;34m(\u001b[0m\u001b[0mout_tokens\u001b[0m\u001b[0;34m.\u001b[0m\u001b[0mshape\u001b[0m\u001b[0;34m[\u001b[0m\u001b[0;36m1\u001b[0m\u001b[0;34m]\u001b[0m \u001b[0;34m-\u001b[0m \u001b[0;36m1\u001b[0m\u001b[0;34m)\u001b[0m\u001b[0;34m:\u001b[0m\u001b[0;34m\u001b[0m\u001b[0;34m\u001b[0m\u001b[0m\n\u001b[0;32m---> 73\u001b[0;31m             \u001b[0mstate\u001b[0m\u001b[0;34m,\u001b[0m \u001b[0mlogits\u001b[0m \u001b[0;34m=\u001b[0m \u001b[0mself\u001b[0m\u001b[0;34m.\u001b[0m\u001b[0mdecode_step\u001b[0m\u001b[0;34m(\u001b[0m\u001b[0mstate\u001b[0m\u001b[0;34m,\u001b[0m \u001b[0mout_tokens\u001b[0m\u001b[0;34m[\u001b[0m\u001b[0;34m:\u001b[0m\u001b[0;34m,\u001b[0m \u001b[0mi\u001b[0m\u001b[0;34m]\u001b[0m\u001b[0;34m)\u001b[0m\u001b[0;34m\u001b[0m\u001b[0;34m\u001b[0m\u001b[0m\n\u001b[0m\u001b[1;32m     74\u001b[0m             \u001b[0mlogits_sequence\u001b[0m\u001b[0;34m.\u001b[0m\u001b[0mappend\u001b[0m\u001b[0;34m(\u001b[0m\u001b[0mlogits\u001b[0m\u001b[0;34m)\u001b[0m\u001b[0;34m\u001b[0m\u001b[0;34m\u001b[0m\u001b[0m\n\u001b[1;32m     75\u001b[0m         \u001b[0;32mreturn\u001b[0m \u001b[0mtorch\u001b[0m\u001b[0;34m.\u001b[0m\u001b[0mstack\u001b[0m\u001b[0;34m(\u001b[0m\u001b[0mlogits_sequence\u001b[0m\u001b[0;34m,\u001b[0m \u001b[0mdim\u001b[0m\u001b[0;34m=\u001b[0m\u001b[0;36m1\u001b[0m\u001b[0;34m)\u001b[0m\u001b[0;34m\u001b[0m\u001b[0;34m\u001b[0m\u001b[0m\n",
            "\u001b[0;32m<ipython-input-30-6c43cbcdcb6e>\u001b[0m in \u001b[0;36mdecode_step\u001b[0;34m(self, prev_state, prev_tokens, **flags)\u001b[0m\n\u001b[1;32m     57\u001b[0m         \"\"\"\n\u001b[1;32m     58\u001b[0m         \u001b[0mdec_start\u001b[0m\u001b[0;34m,\u001b[0m \u001b[0menc_seq\u001b[0m\u001b[0;34m,\u001b[0m \u001b[0minp_mask\u001b[0m\u001b[0;34m,\u001b[0m \u001b[0mattention_reponse\u001b[0m\u001b[0;34m,\u001b[0m \u001b[0m_\u001b[0m \u001b[0;34m=\u001b[0m \u001b[0mprev_state\u001b[0m\u001b[0;34m\u001b[0m\u001b[0;34m\u001b[0m\u001b[0m\n\u001b[0;32m---> 59\u001b[0;31m         \u001b[0mout_embs\u001b[0m \u001b[0;34m=\u001b[0m \u001b[0mself\u001b[0m\u001b[0;34m.\u001b[0m\u001b[0memb_out\u001b[0m\u001b[0;34m(\u001b[0m\u001b[0mprev_tokens\u001b[0m\u001b[0;34m)\u001b[0m\u001b[0;34m\u001b[0m\u001b[0;34m\u001b[0m\u001b[0m\n\u001b[0m\u001b[1;32m     60\u001b[0m         \u001b[0mstate_and_attn\u001b[0m \u001b[0;34m=\u001b[0m \u001b[0mdec_start\u001b[0m \u001b[0;34m+\u001b[0m \u001b[0mattention_reponse\u001b[0m\u001b[0;34m\u001b[0m\u001b[0;34m\u001b[0m\u001b[0m\n\u001b[1;32m     61\u001b[0m         \u001b[0mlog_outputs\u001b[0m \u001b[0;34m=\u001b[0m \u001b[0mself\u001b[0m\u001b[0;34m.\u001b[0m\u001b[0mdec0\u001b[0m\u001b[0;34m(\u001b[0m\u001b[0mout_embs\u001b[0m\u001b[0;34m,\u001b[0m \u001b[0mstate_and_attn\u001b[0m\u001b[0;34m)\u001b[0m\u001b[0;34m\u001b[0m\u001b[0;34m\u001b[0m\u001b[0m\n",
            "\u001b[0;32m/usr/local/lib/python3.10/dist-packages/torch/nn/modules/module.py\u001b[0m in \u001b[0;36m_wrapped_call_impl\u001b[0;34m(self, *args, **kwargs)\u001b[0m\n\u001b[1;32m   1530\u001b[0m             \u001b[0;32mreturn\u001b[0m \u001b[0mself\u001b[0m\u001b[0;34m.\u001b[0m\u001b[0m_compiled_call_impl\u001b[0m\u001b[0;34m(\u001b[0m\u001b[0;34m*\u001b[0m\u001b[0margs\u001b[0m\u001b[0;34m,\u001b[0m \u001b[0;34m**\u001b[0m\u001b[0mkwargs\u001b[0m\u001b[0;34m)\u001b[0m  \u001b[0;31m# type: ignore[misc]\u001b[0m\u001b[0;34m\u001b[0m\u001b[0;34m\u001b[0m\u001b[0m\n\u001b[1;32m   1531\u001b[0m         \u001b[0;32melse\u001b[0m\u001b[0;34m:\u001b[0m\u001b[0;34m\u001b[0m\u001b[0;34m\u001b[0m\u001b[0m\n\u001b[0;32m-> 1532\u001b[0;31m             \u001b[0;32mreturn\u001b[0m \u001b[0mself\u001b[0m\u001b[0;34m.\u001b[0m\u001b[0m_call_impl\u001b[0m\u001b[0;34m(\u001b[0m\u001b[0;34m*\u001b[0m\u001b[0margs\u001b[0m\u001b[0;34m,\u001b[0m \u001b[0;34m**\u001b[0m\u001b[0mkwargs\u001b[0m\u001b[0;34m)\u001b[0m\u001b[0;34m\u001b[0m\u001b[0;34m\u001b[0m\u001b[0m\n\u001b[0m\u001b[1;32m   1533\u001b[0m \u001b[0;34m\u001b[0m\u001b[0m\n\u001b[1;32m   1534\u001b[0m     \u001b[0;32mdef\u001b[0m \u001b[0m_call_impl\u001b[0m\u001b[0;34m(\u001b[0m\u001b[0mself\u001b[0m\u001b[0;34m,\u001b[0m \u001b[0;34m*\u001b[0m\u001b[0margs\u001b[0m\u001b[0;34m,\u001b[0m \u001b[0;34m**\u001b[0m\u001b[0mkwargs\u001b[0m\u001b[0;34m)\u001b[0m\u001b[0;34m:\u001b[0m\u001b[0;34m\u001b[0m\u001b[0;34m\u001b[0m\u001b[0m\n",
            "\u001b[0;32m/usr/local/lib/python3.10/dist-packages/torch/nn/modules/module.py\u001b[0m in \u001b[0;36m_call_impl\u001b[0;34m(self, *args, **kwargs)\u001b[0m\n\u001b[1;32m   1539\u001b[0m                 \u001b[0;32mor\u001b[0m \u001b[0m_global_backward_pre_hooks\u001b[0m \u001b[0;32mor\u001b[0m \u001b[0m_global_backward_hooks\u001b[0m\u001b[0;34m\u001b[0m\u001b[0;34m\u001b[0m\u001b[0m\n\u001b[1;32m   1540\u001b[0m                 or _global_forward_hooks or _global_forward_pre_hooks):\n\u001b[0;32m-> 1541\u001b[0;31m             \u001b[0;32mreturn\u001b[0m \u001b[0mforward_call\u001b[0m\u001b[0;34m(\u001b[0m\u001b[0;34m*\u001b[0m\u001b[0margs\u001b[0m\u001b[0;34m,\u001b[0m \u001b[0;34m**\u001b[0m\u001b[0mkwargs\u001b[0m\u001b[0;34m)\u001b[0m\u001b[0;34m\u001b[0m\u001b[0;34m\u001b[0m\u001b[0m\n\u001b[0m\u001b[1;32m   1542\u001b[0m \u001b[0;34m\u001b[0m\u001b[0m\n\u001b[1;32m   1543\u001b[0m         \u001b[0;32mtry\u001b[0m\u001b[0;34m:\u001b[0m\u001b[0;34m\u001b[0m\u001b[0;34m\u001b[0m\u001b[0m\n",
            "\u001b[0;32m/usr/local/lib/python3.10/dist-packages/torch/nn/modules/sparse.py\u001b[0m in \u001b[0;36mforward\u001b[0;34m(self, input)\u001b[0m\n\u001b[1;32m    160\u001b[0m                 \u001b[0mself\u001b[0m\u001b[0;34m.\u001b[0m\u001b[0mweight\u001b[0m\u001b[0;34m[\u001b[0m\u001b[0mself\u001b[0m\u001b[0;34m.\u001b[0m\u001b[0mpadding_idx\u001b[0m\u001b[0;34m]\u001b[0m\u001b[0;34m.\u001b[0m\u001b[0mfill_\u001b[0m\u001b[0;34m(\u001b[0m\u001b[0;36m0\u001b[0m\u001b[0;34m)\u001b[0m\u001b[0;34m\u001b[0m\u001b[0;34m\u001b[0m\u001b[0m\n\u001b[1;32m    161\u001b[0m \u001b[0;34m\u001b[0m\u001b[0m\n\u001b[0;32m--> 162\u001b[0;31m     \u001b[0;32mdef\u001b[0m \u001b[0mforward\u001b[0m\u001b[0;34m(\u001b[0m\u001b[0mself\u001b[0m\u001b[0;34m,\u001b[0m \u001b[0minput\u001b[0m\u001b[0;34m:\u001b[0m \u001b[0mTensor\u001b[0m\u001b[0;34m)\u001b[0m \u001b[0;34m->\u001b[0m \u001b[0mTensor\u001b[0m\u001b[0;34m:\u001b[0m\u001b[0;34m\u001b[0m\u001b[0;34m\u001b[0m\u001b[0m\n\u001b[0m\u001b[1;32m    163\u001b[0m         return F.embedding(\n\u001b[1;32m    164\u001b[0m             \u001b[0minput\u001b[0m\u001b[0;34m,\u001b[0m \u001b[0mself\u001b[0m\u001b[0;34m.\u001b[0m\u001b[0mweight\u001b[0m\u001b[0;34m,\u001b[0m \u001b[0mself\u001b[0m\u001b[0;34m.\u001b[0m\u001b[0mpadding_idx\u001b[0m\u001b[0;34m,\u001b[0m \u001b[0mself\u001b[0m\u001b[0;34m.\u001b[0m\u001b[0mmax_norm\u001b[0m\u001b[0;34m,\u001b[0m\u001b[0;34m\u001b[0m\u001b[0;34m\u001b[0m\u001b[0m\n",
            "\u001b[0;31mKeyboardInterrupt\u001b[0m: "
          ]
        }
      ],
      "source": [
        "# <YOUR CODE: training loop>\n",
        "model.train()\n",
        "for _ in trange(15000):\n",
        "    step = len(metrics['train_loss']) + 1\n",
        "    batch_ix = np.random.randint(len(train_inp), size=batch_size)\n",
        "    batch_inp = inp_voc.to_matrix(train_inp[batch_ix]).to(device)\n",
        "    batch_out = out_voc.to_matrix(train_out[batch_ix]).to(device)\n",
        "\n",
        "    loss_t = compute_loss(model, batch_inp, batch_out)\n",
        "    opt.zero_grad()\n",
        "    loss_t.backward()\n",
        "    opt.step()\n",
        "\n",
        "    metrics['train_loss'].append((step, loss_t.item()))\n",
        "\n",
        "    if step % 100 == 0:\n",
        "        metrics['dev_bleu'].append((step, compute_bleu(model, dev_inp, dev_out)))\n",
        "\n",
        "        clear_output(True)\n",
        "        plt.figure(figsize=(12,4))\n",
        "        for i, (name, history) in enumerate(sorted(metrics.items())):\n",
        "            plt.subplot(1, len(metrics), i + 1)\n",
        "            plt.title(name)\n",
        "            plt.plot(*zip(*history))\n",
        "            plt.grid()\n",
        "        plt.show()\n",
        "        print(\"Mean loss=%.3f\" % np.mean(metrics['train_loss'][-10:], axis=0)[1], flush=True)"
      ]
    },
    {
      "cell_type": "code",
      "execution_count": 33,
      "metadata": {
        "colab": {
          "base_uri": "https://localhost:8080/"
        },
        "id": "WOzKkVbYfsjy",
        "outputId": "96e01801-f11f-42f7-db2f-7c9940203536"
      },
      "outputs": [
        {
          "output_type": "execute_result",
          "data": {
            "text/plain": [
              "18.641239154460465"
            ]
          },
          "metadata": {},
          "execution_count": 33
        }
      ],
      "source": [
        "np.mean(metrics['dev_bleu'][-10:], axis=0)[1]\n"
      ]
    },
    {
      "cell_type": "markdown",
      "metadata": {
        "id": "LncJGjcHfsjy"
      },
      "source": [
        "### Visualizing model attention (2 points)\n",
        "\n",
        "After training the attentive translation model, you can check it's sanity by visualizing its attention weights.\n",
        "\n",
        "We provided you with a function that draws attention maps using [`Bokeh`](https://bokeh.pydata.org/en/latest/index.html). Once you managed to produce something better than random noise, please save at least 3 attention maps and __submit them to anytask__ alongside this notebook to get the max grade. Saving bokeh figures as __cell outputs is not enough!__ (TAs can't see saved bokeh figures in anytask). You can save bokeh images as screenshots or using this button:\n",
        "\n",
        "![bokeh_panel](https://github.com/yandexdataschool/nlp_course/raw/2019/resources/bokeh_panel.png)\n",
        "\n",
        "__Note:__ you're not locked into using bokeh. If you prefer a different visualization method, feel free to use that instead of bokeh."
      ]
    },
    {
      "cell_type": "code",
      "execution_count": 36,
      "metadata": {
        "id": "A9Cl7_rmfsjz"
      },
      "outputs": [],
      "source": [
        "import bokeh.plotting as pl\n",
        "import bokeh.models as bm\n",
        "from bokeh.io import output_notebook, show\n",
        "output_notebook()\n",
        "\n",
        "def draw_attention(inp_line, translation, probs):\n",
        "    \"\"\" An intentionally ambiguous function to visualize attention weights \"\"\"\n",
        "    inp_tokens = inp_voc.tokenize(inp_line)\n",
        "    trans_tokens = out_voc.tokenize(translation)\n",
        "    probs = probs[:len(trans_tokens), :len(inp_tokens)]\n",
        "\n",
        "    fig = pl.figure(x_range=(0, len(inp_tokens)), y_range=(0, len(trans_tokens)),\n",
        "                    x_axis_type=None, y_axis_type=None, tools=[])\n",
        "    fig.image([probs[::-1]], 0, 0, len(inp_tokens), len(trans_tokens))\n",
        "\n",
        "    fig.add_layout(bm.LinearAxis(axis_label='source tokens'), 'above')\n",
        "    fig.xaxis.ticker = np.arange(len(inp_tokens)) + 0.5\n",
        "    fig.xaxis.major_label_overrides = dict(zip(np.arange(len(inp_tokens)) + 0.5, inp_tokens))\n",
        "    fig.xaxis.major_label_orientation = 45\n",
        "\n",
        "    fig.add_layout(bm.LinearAxis(axis_label='translation tokens'), 'left')\n",
        "    fig.yaxis.ticker = np.arange(len(trans_tokens)) + 0.5\n",
        "    fig.yaxis.major_label_overrides = dict(zip(np.arange(len(trans_tokens)) + 0.5, trans_tokens[::-1]))\n",
        "\n",
        "    show(fig)"
      ]
    },
    {
      "cell_type": "code",
      "execution_count": 41,
      "metadata": {
        "id": "UDLe9VB7fsjz"
      },
      "outputs": [],
      "source": [
        "inp = dev_inp[::500]\n",
        "\n",
        "trans, states = model.translate_lines(inp)\n",
        "\n",
        "# select attention probs from model state (you may need to change this for your custom model)\n",
        "# attention_probs below must have shape [batch_size, translation_length, input_length], extracted from states\n",
        "# e.g. if attention probs are at the end of each state, use np.stack([state[-1] for state in states], axis=1)\n",
        "attention_probs = np.stack([state[-1].cpu().detach().numpy() for state in states], axis=1)"
      ]
    },
    {
      "cell_type": "code",
      "execution_count": 43,
      "metadata": {
        "colab": {
          "base_uri": "https://localhost:8080/",
          "height": 1000
        },
        "collapsed": true,
        "id": "37C-Fcmhfsj4",
        "outputId": "64138e15-25b1-4945-cd64-8415132813a5"
      },
      "outputs": [
        {
          "output_type": "display_data",
          "data": {
            "application/javascript": [
              "(function(root) {\n",
              "  function now() {\n",
              "    return new Date();\n",
              "  }\n",
              "\n",
              "  const force = true;\n",
              "\n",
              "  if (typeof root._bokeh_onload_callbacks === \"undefined\" || force === true) {\n",
              "    root._bokeh_onload_callbacks = [];\n",
              "    root._bokeh_is_loading = undefined;\n",
              "  }\n",
              "\n",
              "const JS_MIME_TYPE = 'application/javascript';\n",
              "  const HTML_MIME_TYPE = 'text/html';\n",
              "  const EXEC_MIME_TYPE = 'application/vnd.bokehjs_exec.v0+json';\n",
              "  const CLASS_NAME = 'output_bokeh rendered_html';\n",
              "\n",
              "  /**\n",
              "   * Render data to the DOM node\n",
              "   */\n",
              "  function render(props, node) {\n",
              "    const script = document.createElement(\"script\");\n",
              "    node.appendChild(script);\n",
              "  }\n",
              "\n",
              "  /**\n",
              "   * Handle when an output is cleared or removed\n",
              "   */\n",
              "  function handleClearOutput(event, handle) {\n",
              "    function drop(id) {\n",
              "      const view = Bokeh.index.get_by_id(id)\n",
              "      if (view != null) {\n",
              "        view.model.document.clear()\n",
              "        Bokeh.index.delete(view)\n",
              "      }\n",
              "    }\n",
              "\n",
              "    const cell = handle.cell;\n",
              "\n",
              "    const id = cell.output_area._bokeh_element_id;\n",
              "    const server_id = cell.output_area._bokeh_server_id;\n",
              "\n",
              "    // Clean up Bokeh references\n",
              "    if (id != null) {\n",
              "      drop(id)\n",
              "    }\n",
              "\n",
              "    if (server_id !== undefined) {\n",
              "      // Clean up Bokeh references\n",
              "      const cmd_clean = \"from bokeh.io.state import curstate; print(curstate().uuid_to_server['\" + server_id + \"'].get_sessions()[0].document.roots[0]._id)\";\n",
              "      cell.notebook.kernel.execute(cmd_clean, {\n",
              "        iopub: {\n",
              "          output: function(msg) {\n",
              "            const id = msg.content.text.trim()\n",
              "            drop(id)\n",
              "          }\n",
              "        }\n",
              "      });\n",
              "      // Destroy server and session\n",
              "      const cmd_destroy = \"import bokeh.io.notebook as ion; ion.destroy_server('\" + server_id + \"')\";\n",
              "      cell.notebook.kernel.execute(cmd_destroy);\n",
              "    }\n",
              "  }\n",
              "\n",
              "  /**\n",
              "   * Handle when a new output is added\n",
              "   */\n",
              "  function handleAddOutput(event, handle) {\n",
              "    const output_area = handle.output_area;\n",
              "    const output = handle.output;\n",
              "\n",
              "    // limit handleAddOutput to display_data with EXEC_MIME_TYPE content only\n",
              "    if ((output.output_type != \"display_data\") || (!Object.prototype.hasOwnProperty.call(output.data, EXEC_MIME_TYPE))) {\n",
              "      return\n",
              "    }\n",
              "\n",
              "    const toinsert = output_area.element.find(\".\" + CLASS_NAME.split(' ')[0]);\n",
              "\n",
              "    if (output.metadata[EXEC_MIME_TYPE][\"id\"] !== undefined) {\n",
              "      toinsert[toinsert.length - 1].firstChild.textContent = output.data[JS_MIME_TYPE];\n",
              "      // store reference to embed id on output_area\n",
              "      output_area._bokeh_element_id = output.metadata[EXEC_MIME_TYPE][\"id\"];\n",
              "    }\n",
              "    if (output.metadata[EXEC_MIME_TYPE][\"server_id\"] !== undefined) {\n",
              "      const bk_div = document.createElement(\"div\");\n",
              "      bk_div.innerHTML = output.data[HTML_MIME_TYPE];\n",
              "      const script_attrs = bk_div.children[0].attributes;\n",
              "      for (let i = 0; i < script_attrs.length; i++) {\n",
              "        toinsert[toinsert.length - 1].firstChild.setAttribute(script_attrs[i].name, script_attrs[i].value);\n",
              "        toinsert[toinsert.length - 1].firstChild.textContent = bk_div.children[0].textContent\n",
              "      }\n",
              "      // store reference to server id on output_area\n",
              "      output_area._bokeh_server_id = output.metadata[EXEC_MIME_TYPE][\"server_id\"];\n",
              "    }\n",
              "  }\n",
              "\n",
              "  function register_renderer(events, OutputArea) {\n",
              "\n",
              "    function append_mime(data, metadata, element) {\n",
              "      // create a DOM node to render to\n",
              "      const toinsert = this.create_output_subarea(\n",
              "        metadata,\n",
              "        CLASS_NAME,\n",
              "        EXEC_MIME_TYPE\n",
              "      );\n",
              "      this.keyboard_manager.register_events(toinsert);\n",
              "      // Render to node\n",
              "      const props = {data: data, metadata: metadata[EXEC_MIME_TYPE]};\n",
              "      render(props, toinsert[toinsert.length - 1]);\n",
              "      element.append(toinsert);\n",
              "      return toinsert\n",
              "    }\n",
              "\n",
              "    /* Handle when an output is cleared or removed */\n",
              "    events.on('clear_output.CodeCell', handleClearOutput);\n",
              "    events.on('delete.Cell', handleClearOutput);\n",
              "\n",
              "    /* Handle when a new output is added */\n",
              "    events.on('output_added.OutputArea', handleAddOutput);\n",
              "\n",
              "    /**\n",
              "     * Register the mime type and append_mime function with output_area\n",
              "     */\n",
              "    OutputArea.prototype.register_mime_type(EXEC_MIME_TYPE, append_mime, {\n",
              "      /* Is output safe? */\n",
              "      safe: true,\n",
              "      /* Index of renderer in `output_area.display_order` */\n",
              "      index: 0\n",
              "    });\n",
              "  }\n",
              "\n",
              "  // register the mime type if in Jupyter Notebook environment and previously unregistered\n",
              "  if (root.Jupyter !== undefined) {\n",
              "    const events = require('base/js/events');\n",
              "    const OutputArea = require('notebook/js/outputarea').OutputArea;\n",
              "\n",
              "    if (OutputArea.prototype.mime_types().indexOf(EXEC_MIME_TYPE) == -1) {\n",
              "      register_renderer(events, OutputArea);\n",
              "    }\n",
              "  }\n",
              "  if (typeof (root._bokeh_timeout) === \"undefined\" || force === true) {\n",
              "    root._bokeh_timeout = Date.now() + 5000;\n",
              "    root._bokeh_failed_load = false;\n",
              "  }\n",
              "\n",
              "  const NB_LOAD_WARNING = {'data': {'text/html':\n",
              "     \"<div style='background-color: #fdd'>\\n\"+\n",
              "     \"<p>\\n\"+\n",
              "     \"BokehJS does not appear to have successfully loaded. If loading BokehJS from CDN, this \\n\"+\n",
              "     \"may be due to a slow or bad network connection. Possible fixes:\\n\"+\n",
              "     \"</p>\\n\"+\n",
              "     \"<ul>\\n\"+\n",
              "     \"<li>re-rerun `output_notebook()` to attempt to load from CDN again, or</li>\\n\"+\n",
              "     \"<li>use INLINE resources instead, as so:</li>\\n\"+\n",
              "     \"</ul>\\n\"+\n",
              "     \"<code>\\n\"+\n",
              "     \"from bokeh.resources import INLINE\\n\"+\n",
              "     \"output_notebook(resources=INLINE)\\n\"+\n",
              "     \"</code>\\n\"+\n",
              "     \"</div>\"}};\n",
              "\n",
              "  function display_loaded() {\n",
              "    const el = document.getElementById(null);\n",
              "    if (el != null) {\n",
              "      el.textContent = \"BokehJS is loading...\";\n",
              "    }\n",
              "    if (root.Bokeh !== undefined) {\n",
              "      if (el != null) {\n",
              "        el.textContent = \"BokehJS \" + root.Bokeh.version + \" successfully loaded.\";\n",
              "      }\n",
              "    } else if (Date.now() < root._bokeh_timeout) {\n",
              "      setTimeout(display_loaded, 100)\n",
              "    }\n",
              "  }\n",
              "\n",
              "  function run_callbacks() {\n",
              "    try {\n",
              "      root._bokeh_onload_callbacks.forEach(function(callback) {\n",
              "        if (callback != null)\n",
              "          callback();\n",
              "      });\n",
              "    } finally {\n",
              "      delete root._bokeh_onload_callbacks\n",
              "    }\n",
              "    console.debug(\"Bokeh: all callbacks have finished\");\n",
              "  }\n",
              "\n",
              "  function load_libs(css_urls, js_urls, callback) {\n",
              "    if (css_urls == null) css_urls = [];\n",
              "    if (js_urls == null) js_urls = [];\n",
              "\n",
              "    root._bokeh_onload_callbacks.push(callback);\n",
              "    if (root._bokeh_is_loading > 0) {\n",
              "      console.debug(\"Bokeh: BokehJS is being loaded, scheduling callback at\", now());\n",
              "      return null;\n",
              "    }\n",
              "    if (js_urls == null || js_urls.length === 0) {\n",
              "      run_callbacks();\n",
              "      return null;\n",
              "    }\n",
              "    console.debug(\"Bokeh: BokehJS not loaded, scheduling load and callback at\", now());\n",
              "    root._bokeh_is_loading = css_urls.length + js_urls.length;\n",
              "\n",
              "    function on_load() {\n",
              "      root._bokeh_is_loading--;\n",
              "      if (root._bokeh_is_loading === 0) {\n",
              "        console.debug(\"Bokeh: all BokehJS libraries/stylesheets loaded\");\n",
              "        run_callbacks()\n",
              "      }\n",
              "    }\n",
              "\n",
              "    function on_error(url) {\n",
              "      console.error(\"failed to load \" + url);\n",
              "    }\n",
              "\n",
              "    for (let i = 0; i < css_urls.length; i++) {\n",
              "      const url = css_urls[i];\n",
              "      const element = document.createElement(\"link\");\n",
              "      element.onload = on_load;\n",
              "      element.onerror = on_error.bind(null, url);\n",
              "      element.rel = \"stylesheet\";\n",
              "      element.type = \"text/css\";\n",
              "      element.href = url;\n",
              "      console.debug(\"Bokeh: injecting link tag for BokehJS stylesheet: \", url);\n",
              "      document.body.appendChild(element);\n",
              "    }\n",
              "\n",
              "    for (let i = 0; i < js_urls.length; i++) {\n",
              "      const url = js_urls[i];\n",
              "      const element = document.createElement('script');\n",
              "      element.onload = on_load;\n",
              "      element.onerror = on_error.bind(null, url);\n",
              "      element.async = false;\n",
              "      element.src = url;\n",
              "      console.debug(\"Bokeh: injecting script tag for BokehJS library: \", url);\n",
              "      document.head.appendChild(element);\n",
              "    }\n",
              "  };\n",
              "\n",
              "  function inject_raw_css(css) {\n",
              "    const element = document.createElement(\"style\");\n",
              "    element.appendChild(document.createTextNode(css));\n",
              "    document.body.appendChild(element);\n",
              "  }\n",
              "\n",
              "  const js_urls = [\"https://cdn.bokeh.org/bokeh/release/bokeh-3.3.4.min.js\", \"https://cdn.bokeh.org/bokeh/release/bokeh-gl-3.3.4.min.js\", \"https://cdn.bokeh.org/bokeh/release/bokeh-widgets-3.3.4.min.js\", \"https://cdn.bokeh.org/bokeh/release/bokeh-tables-3.3.4.min.js\", \"https://cdn.bokeh.org/bokeh/release/bokeh-mathjax-3.3.4.min.js\"];\n",
              "  const css_urls = [];\n",
              "\n",
              "  const inline_js = [    function(Bokeh) {\n",
              "      Bokeh.set_log_level(\"info\");\n",
              "    },\n",
              "function(Bokeh) {\n",
              "    }\n",
              "  ];\n",
              "\n",
              "  function run_inline_js() {\n",
              "    if (root.Bokeh !== undefined || force === true) {\n",
              "          for (let i = 0; i < inline_js.length; i++) {\n",
              "      inline_js[i].call(root, root.Bokeh);\n",
              "    }\n",
              "} else if (Date.now() < root._bokeh_timeout) {\n",
              "      setTimeout(run_inline_js, 100);\n",
              "    } else if (!root._bokeh_failed_load) {\n",
              "      console.log(\"Bokeh: BokehJS failed to load within specified timeout.\");\n",
              "      root._bokeh_failed_load = true;\n",
              "    } else if (force !== true) {\n",
              "      const cell = $(document.getElementById(null)).parents('.cell').data().cell;\n",
              "      cell.output_area.append_execute_result(NB_LOAD_WARNING)\n",
              "    }\n",
              "  }\n",
              "\n",
              "  if (root._bokeh_is_loading === 0) {\n",
              "    console.debug(\"Bokeh: BokehJS loaded, going straight to plotting\");\n",
              "    run_inline_js();\n",
              "  } else {\n",
              "    load_libs(css_urls, js_urls, function() {\n",
              "      console.debug(\"Bokeh: BokehJS plotting callback run at\", now());\n",
              "      run_inline_js();\n",
              "    });\n",
              "  }\n",
              "}(window));"
            ],
            "application/vnd.bokehjs_load.v0+json": "(function(root) {\n  function now() {\n    return new Date();\n  }\n\n  const force = true;\n\n  if (typeof root._bokeh_onload_callbacks === \"undefined\" || force === true) {\n    root._bokeh_onload_callbacks = [];\n    root._bokeh_is_loading = undefined;\n  }\n\n\n  if (typeof (root._bokeh_timeout) === \"undefined\" || force === true) {\n    root._bokeh_timeout = Date.now() + 5000;\n    root._bokeh_failed_load = false;\n  }\n\n  const NB_LOAD_WARNING = {'data': {'text/html':\n     \"<div style='background-color: #fdd'>\\n\"+\n     \"<p>\\n\"+\n     \"BokehJS does not appear to have successfully loaded. If loading BokehJS from CDN, this \\n\"+\n     \"may be due to a slow or bad network connection. Possible fixes:\\n\"+\n     \"</p>\\n\"+\n     \"<ul>\\n\"+\n     \"<li>re-rerun `output_notebook()` to attempt to load from CDN again, or</li>\\n\"+\n     \"<li>use INLINE resources instead, as so:</li>\\n\"+\n     \"</ul>\\n\"+\n     \"<code>\\n\"+\n     \"from bokeh.resources import INLINE\\n\"+\n     \"output_notebook(resources=INLINE)\\n\"+\n     \"</code>\\n\"+\n     \"</div>\"}};\n\n  function display_loaded() {\n    const el = document.getElementById(null);\n    if (el != null) {\n      el.textContent = \"BokehJS is loading...\";\n    }\n    if (root.Bokeh !== undefined) {\n      if (el != null) {\n        el.textContent = \"BokehJS \" + root.Bokeh.version + \" successfully loaded.\";\n      }\n    } else if (Date.now() < root._bokeh_timeout) {\n      setTimeout(display_loaded, 100)\n    }\n  }\n\n  function run_callbacks() {\n    try {\n      root._bokeh_onload_callbacks.forEach(function(callback) {\n        if (callback != null)\n          callback();\n      });\n    } finally {\n      delete root._bokeh_onload_callbacks\n    }\n    console.debug(\"Bokeh: all callbacks have finished\");\n  }\n\n  function load_libs(css_urls, js_urls, callback) {\n    if (css_urls == null) css_urls = [];\n    if (js_urls == null) js_urls = [];\n\n    root._bokeh_onload_callbacks.push(callback);\n    if (root._bokeh_is_loading > 0) {\n      console.debug(\"Bokeh: BokehJS is being loaded, scheduling callback at\", now());\n      return null;\n    }\n    if (js_urls == null || js_urls.length === 0) {\n      run_callbacks();\n      return null;\n    }\n    console.debug(\"Bokeh: BokehJS not loaded, scheduling load and callback at\", now());\n    root._bokeh_is_loading = css_urls.length + js_urls.length;\n\n    function on_load() {\n      root._bokeh_is_loading--;\n      if (root._bokeh_is_loading === 0) {\n        console.debug(\"Bokeh: all BokehJS libraries/stylesheets loaded\");\n        run_callbacks()\n      }\n    }\n\n    function on_error(url) {\n      console.error(\"failed to load \" + url);\n    }\n\n    for (let i = 0; i < css_urls.length; i++) {\n      const url = css_urls[i];\n      const element = document.createElement(\"link\");\n      element.onload = on_load;\n      element.onerror = on_error.bind(null, url);\n      element.rel = \"stylesheet\";\n      element.type = \"text/css\";\n      element.href = url;\n      console.debug(\"Bokeh: injecting link tag for BokehJS stylesheet: \", url);\n      document.body.appendChild(element);\n    }\n\n    for (let i = 0; i < js_urls.length; i++) {\n      const url = js_urls[i];\n      const element = document.createElement('script');\n      element.onload = on_load;\n      element.onerror = on_error.bind(null, url);\n      element.async = false;\n      element.src = url;\n      console.debug(\"Bokeh: injecting script tag for BokehJS library: \", url);\n      document.head.appendChild(element);\n    }\n  };\n\n  function inject_raw_css(css) {\n    const element = document.createElement(\"style\");\n    element.appendChild(document.createTextNode(css));\n    document.body.appendChild(element);\n  }\n\n  const js_urls = [\"https://cdn.bokeh.org/bokeh/release/bokeh-3.3.4.min.js\", \"https://cdn.bokeh.org/bokeh/release/bokeh-gl-3.3.4.min.js\", \"https://cdn.bokeh.org/bokeh/release/bokeh-widgets-3.3.4.min.js\", \"https://cdn.bokeh.org/bokeh/release/bokeh-tables-3.3.4.min.js\", \"https://cdn.bokeh.org/bokeh/release/bokeh-mathjax-3.3.4.min.js\"];\n  const css_urls = [];\n\n  const inline_js = [    function(Bokeh) {\n      Bokeh.set_log_level(\"info\");\n    },\nfunction(Bokeh) {\n    }\n  ];\n\n  function run_inline_js() {\n    if (root.Bokeh !== undefined || force === true) {\n          for (let i = 0; i < inline_js.length; i++) {\n      inline_js[i].call(root, root.Bokeh);\n    }\n} else if (Date.now() < root._bokeh_timeout) {\n      setTimeout(run_inline_js, 100);\n    } else if (!root._bokeh_failed_load) {\n      console.log(\"Bokeh: BokehJS failed to load within specified timeout.\");\n      root._bokeh_failed_load = true;\n    } else if (force !== true) {\n      const cell = $(document.getElementById(null)).parents('.cell').data().cell;\n      cell.output_area.append_execute_result(NB_LOAD_WARNING)\n    }\n  }\n\n  if (root._bokeh_is_loading === 0) {\n    console.debug(\"Bokeh: BokehJS loaded, going straight to plotting\");\n    run_inline_js();\n  } else {\n    load_libs(css_urls, js_urls, function() {\n      console.debug(\"Bokeh: BokehJS plotting callback run at\", now());\n      run_inline_js();\n    });\n  }\n}(window));"
          },
          "metadata": {}
        },
        {
          "output_type": "display_data",
          "data": {
            "text/html": [
              "\n",
              "  <div id=\"b662a299-40fc-41f8-b699-15f722a0b361\" data-root-id=\"p1206\" style=\"display: contents;\"></div>\n"
            ]
          },
          "metadata": {}
        },
        {
          "output_type": "display_data",
          "data": {
            "application/javascript": [
              "(function(root) {\n",
              "  function embed_document(root) {\n",
              "  const docs_json = {\"78eeeab7-4047-4e0b-9400-067b87378fe7\":{\"version\":\"3.3.4\",\"title\":\"Bokeh Application\",\"roots\":[{\"type\":\"object\",\"name\":\"Figure\",\"id\":\"p1206\",\"attributes\":{\"x_range\":{\"type\":\"object\",\"name\":\"Range1d\",\"id\":\"p1215\",\"attributes\":{\"end\":11}},\"y_range\":{\"type\":\"object\",\"name\":\"Range1d\",\"id\":\"p1216\",\"attributes\":{\"end\":13}},\"x_scale\":{\"type\":\"object\",\"name\":\"LinearScale\",\"id\":\"p1217\"},\"y_scale\":{\"type\":\"object\",\"name\":\"LinearScale\",\"id\":\"p1218\"},\"title\":{\"type\":\"object\",\"name\":\"Title\",\"id\":\"p1213\"},\"renderers\":[{\"type\":\"object\",\"name\":\"GlyphRenderer\",\"id\":\"p1231\",\"attributes\":{\"data_source\":{\"type\":\"object\",\"name\":\"ColumnDataSource\",\"id\":\"p1219\",\"attributes\":{\"selected\":{\"type\":\"object\",\"name\":\"Selection\",\"id\":\"p1220\",\"attributes\":{\"indices\":[],\"line_indices\":[]}},\"selection_policy\":{\"type\":\"object\",\"name\":\"UnionRenderers\",\"id\":\"p1221\"},\"data\":{\"type\":\"map\",\"entries\":[[\"image\",[{\"type\":\"ndarray\",\"array\":{\"type\":\"bytes\",\"data\":\"N8YPO/TYkDtHOCE8HOwQPEu1njyYs7I8wInNPMP0rT0Mw9M9DS4qPqyUCT+/Hsw6+zzjOlSd6TrAytY63ve7OhVODDsR0wI8faqtPLlepTzR1Yo9/z1fPyiNAjlN36k5g24KOpX+2DmBDs86bghbO73dFjzy3Rc9qGjkPNMTjj2/xlg/JJM9OdTYsDly5vk5USqVOSfDgzobl0w7p6fBOyUgAT2zWXc95tDXPRggOj/xYRg4zBIFOBmxhzgvtjQ4CB5tOaGdBjoF/Ts7nb3RPAEDWz2wRyA+mV9BP+KPBjlILaI5zPKqOuDPDzpkBu46239ROw+2kDz4SKI9JDEiPmKYiz6R8+0+ebRuOYoiFTs+7Mg7uKh7O6JdUzyM5rU8tU58PXRxfD6yVk8+HVKRPirDIT7uloM7bFXDO8IUvDxrlIE87ODGPS8l8j1Wie09GVw8Pvj5ZT4zhAg+oryfPQryETqUkgA7PjwJPA5DGjy4Hpg9/EanPZfEIz5jCF8+uWVcPsgcHT6RYJ49jjzkOmhzIzspj1I8OelqPI9zSz0S1fM9bbOuPm0XWj7aQA4+vqmIPbvZIz0+FK86VeIeOx4KVTwBQCA8YiGGPaNQlz6UU/M+FoaUPbm+Ez2O0pU8XJgoPHUXxzhr3zA5WxKvOu+OvzqZyII8zIGHPnZo3T4Mr9k9Xdt2PXlhjj2MsEM99Fk+OiuXHDs/m6E81jGDPEDMlT0weBc/0tt7Pgi4izwkgYI8+/xCPDUhszs=\"},\"shape\":[13,11],\"dtype\":\"float32\",\"order\":\"little\"}]]]}}},\"view\":{\"type\":\"object\",\"name\":\"CDSView\",\"id\":\"p1232\",\"attributes\":{\"filter\":{\"type\":\"object\",\"name\":\"AllIndices\",\"id\":\"p1233\"}}},\"glyph\":{\"type\":\"object\",\"name\":\"Image\",\"id\":\"p1222\",\"attributes\":{\"x\":{\"type\":\"value\",\"value\":0},\"y\":{\"type\":\"value\",\"value\":0},\"dw\":{\"type\":\"value\",\"value\":11},\"dh\":{\"type\":\"value\",\"value\":13},\"image\":{\"type\":\"field\",\"field\":\"image\"},\"color_mapper\":{\"type\":\"object\",\"name\":\"LinearColorMapper\",\"id\":\"p1223\",\"attributes\":{\"palette\":[\"#000000\",\"#252525\",\"#525252\",\"#737373\",\"#969696\",\"#bdbdbd\",\"#d9d9d9\",\"#f0f0f0\",\"#ffffff\"]}}}},\"nonselection_glyph\":{\"type\":\"object\",\"name\":\"Image\",\"id\":\"p1225\",\"attributes\":{\"x\":{\"type\":\"value\",\"value\":0},\"y\":{\"type\":\"value\",\"value\":0},\"dw\":{\"type\":\"value\",\"value\":11},\"dh\":{\"type\":\"value\",\"value\":13},\"global_alpha\":{\"type\":\"value\",\"value\":0.1},\"image\":{\"type\":\"field\",\"field\":\"image\"},\"color_mapper\":{\"type\":\"object\",\"name\":\"LinearColorMapper\",\"id\":\"p1226\",\"attributes\":{\"palette\":[\"#000000\",\"#252525\",\"#525252\",\"#737373\",\"#969696\",\"#bdbdbd\",\"#d9d9d9\",\"#f0f0f0\",\"#ffffff\"]}}}},\"muted_glyph\":{\"type\":\"object\",\"name\":\"Image\",\"id\":\"p1228\",\"attributes\":{\"x\":{\"type\":\"value\",\"value\":0},\"y\":{\"type\":\"value\",\"value\":0},\"dw\":{\"type\":\"value\",\"value\":11},\"dh\":{\"type\":\"value\",\"value\":13},\"global_alpha\":{\"type\":\"value\",\"value\":0.2},\"image\":{\"type\":\"field\",\"field\":\"image\"},\"color_mapper\":{\"type\":\"object\",\"name\":\"LinearColorMapper\",\"id\":\"p1229\",\"attributes\":{\"palette\":[\"#000000\",\"#252525\",\"#525252\",\"#737373\",\"#969696\",\"#bdbdbd\",\"#d9d9d9\",\"#f0f0f0\",\"#ffffff\"]}}}}}}],\"toolbar\":{\"type\":\"object\",\"name\":\"Toolbar\",\"id\":\"p1214\"},\"left\":[{\"type\":\"object\",\"name\":\"LinearAxis\",\"id\":\"p1239\",\"attributes\":{\"ticker\":{\"type\":\"object\",\"name\":\"FixedTicker\",\"id\":\"p1243\",\"attributes\":{\"ticks\":{\"type\":\"ndarray\",\"array\":{\"type\":\"bytes\",\"data\":\"AAAAAAAA4D8AAAAAAAD4PwAAAAAAAARAAAAAAAAADEAAAAAAAAASQAAAAAAAABZAAAAAAAAAGkAAAAAAAAAeQAAAAAAAACFAAAAAAAAAI0AAAAAAAAAlQAAAAAAAACdAAAAAAAAAKUA=\"},\"shape\":[13],\"dtype\":\"float64\",\"order\":\"little\"},\"minor_ticks\":[]}},\"formatter\":{\"type\":\"object\",\"name\":\"BasicTickFormatter\",\"id\":\"p1241\"},\"axis_label\":\"translation tokens\",\"major_label_overrides\":{\"type\":\"map\",\"entries\":[[0.5,\"_EOS_\"],[1.5,\".\"],[2.5,\"kitchen\"],[3.5,\"shared\"],[4.5,\"a\"],[5.5,\"and\"],[6.5,\"kitchen\"],[7.5,\"shared\"],[8.5,\"the\"],[9.5,\"use\"],[10.5,\"can\"],[11.5,\"guests\"],[12.5,\"_BOS_\"]]},\"major_label_policy\":{\"type\":\"object\",\"name\":\"AllLabels\",\"id\":\"p1242\"}}}],\"above\":[{\"type\":\"object\",\"name\":\"LinearAxis\",\"id\":\"p1234\",\"attributes\":{\"ticker\":{\"type\":\"object\",\"name\":\"FixedTicker\",\"id\":\"p1238\",\"attributes\":{\"ticks\":{\"type\":\"ndarray\",\"array\":{\"type\":\"bytes\",\"data\":\"AAAAAAAA4D8AAAAAAAD4PwAAAAAAAARAAAAAAAAADEAAAAAAAAASQAAAAAAAABZAAAAAAAAAGkAAAAAAAAAeQAAAAAAAACFAAAAAAAAAI0AAAAAAAAAlQA==\"},\"shape\":[11],\"dtype\":\"float64\",\"order\":\"little\"},\"minor_ticks\":[]}},\"formatter\":{\"type\":\"object\",\"name\":\"BasicTickFormatter\",\"id\":\"p1236\"},\"axis_label\":\"source tokens\",\"major_label_orientation\":45,\"major_label_overrides\":{\"type\":\"map\",\"entries\":[[0.5,\"_BOS_\"],[1.5,\"\\u0432\"],[2.5,\"\\u0440\\u0430\\u0441\\u043f\\u043e\\u0440\\u044f\\u0436\\u0435\\u043d\\u0438\\u0438\"],[3.5,\"\\u0433\\u043e\\u0441\\u0442\\u0435\\u0439\"],[4.5,\"\\u043e\\u0431\\u0449\\u0430\\u044f\"],[5.5,\"\\u043a\\u0443\\u0445\\u043d\\u044f\"],[6.5,\"\\u0438\"],[7.5,\"\\u043e\\u0431\\u0449\\u0430\\u044f\"],[8.5,\"\\u0433\\u043e\\u0441\\u0442\\u0438\\u043d\\u0430\\u044f\"],[9.5,\".\"],[10.5,\"_EOS_\"]]},\"major_label_policy\":{\"type\":\"object\",\"name\":\"AllLabels\",\"id\":\"p1237\"}}}]}}]}};\n",
              "  const render_items = [{\"docid\":\"78eeeab7-4047-4e0b-9400-067b87378fe7\",\"roots\":{\"p1206\":\"b662a299-40fc-41f8-b699-15f722a0b361\"},\"root_ids\":[\"p1206\"]}];\n",
              "  root.Bokeh.embed.embed_items_notebook(docs_json, render_items);\n",
              "  }\n",
              "  if (root.Bokeh !== undefined) {\n",
              "    embed_document(root);\n",
              "  } else {\n",
              "    let attempts = 0;\n",
              "    const timer = setInterval(function(root) {\n",
              "      if (root.Bokeh !== undefined) {\n",
              "        clearInterval(timer);\n",
              "        embed_document(root);\n",
              "      } else {\n",
              "        attempts++;\n",
              "        if (attempts > 100) {\n",
              "          clearInterval(timer);\n",
              "          console.log(\"Bokeh: ERROR: Unable to run BokehJS code because BokehJS library is missing\");\n",
              "        }\n",
              "      }\n",
              "    }, 10, root)\n",
              "  }\n",
              "})(window);"
            ],
            "application/vnd.bokehjs_exec.v0+json": ""
          },
          "metadata": {
            "application/vnd.bokehjs_exec.v0+json": {
              "id": "p1206"
            }
          }
        },
        {
          "output_type": "display_data",
          "data": {
            "text/html": [
              "\n",
              "  <div id=\"a6aea34c-b67d-4489-af05-4be9c4b21786\" data-root-id=\"p1247\" style=\"display: contents;\"></div>\n"
            ]
          },
          "metadata": {}
        },
        {
          "output_type": "display_data",
          "data": {
            "application/javascript": [
              "(function(root) {\n",
              "  function embed_document(root) {\n",
              "  const docs_json = {\"4401c536-830d-4754-a1cb-e878946dc745\":{\"version\":\"3.3.4\",\"title\":\"Bokeh Application\",\"roots\":[{\"type\":\"object\",\"name\":\"Figure\",\"id\":\"p1247\",\"attributes\":{\"x_range\":{\"type\":\"object\",\"name\":\"Range1d\",\"id\":\"p1256\",\"attributes\":{\"end\":15}},\"y_range\":{\"type\":\"object\",\"name\":\"Range1d\",\"id\":\"p1257\",\"attributes\":{\"end\":12}},\"x_scale\":{\"type\":\"object\",\"name\":\"LinearScale\",\"id\":\"p1258\"},\"y_scale\":{\"type\":\"object\",\"name\":\"LinearScale\",\"id\":\"p1259\"},\"title\":{\"type\":\"object\",\"name\":\"Title\",\"id\":\"p1254\"},\"renderers\":[{\"type\":\"object\",\"name\":\"GlyphRenderer\",\"id\":\"p1272\",\"attributes\":{\"data_source\":{\"type\":\"object\",\"name\":\"ColumnDataSource\",\"id\":\"p1260\",\"attributes\":{\"selected\":{\"type\":\"object\",\"name\":\"Selection\",\"id\":\"p1261\",\"attributes\":{\"indices\":[],\"line_indices\":[]}},\"selection_policy\":{\"type\":\"object\",\"name\":\"UnionRenderers\",\"id\":\"p1262\"},\"data\":{\"type\":\"map\",\"entries\":[[\"image\",[{\"type\":\"ndarray\",\"array\":{\"type\":\"bytes\",\"data\":\"dag4Olimqzply946nVk9O+PQgTu/A4s7UlFGPNerYjzDlU087p+uPI5JNDwQYDo9cypkPR+MEz5zPCg/s7o7OgqKvztK+947lJUlPIhx4zss9sA7s8DfOxc3jDyLfRk8iMEKPERACTw6oMs8HVcVPam92j0/Rg0/0uWJOJIouDnwi6c5zzFKOuupPTqogmY65/2zOnRfhTsySUM7DgmlO1032zvUe9g8yOobPZDY+D3V/EI/oMrrN894+TicdcY4CSeMOVsNpDm6G8g5ebsjOoa7sDpSm9o6ElaLO/9omjsn81A9d8zSPdftTz57BCE/auG6NjpGaDdF19w3lkzgOLiK9jjHI7A4xJV2OXgVKjpAphk6No2CO0nOPDxjM1Q9Lm2tPX26jj5BMhE/OEjdNxc4DjlkyYQ5yKrYOYbkHTp5VYc61jiDOioBczvrHHQ7qCAGPPS0kDwjAAo+BscgPgRNhz6KfdA+QkRKN1qUOzmeRo05kHcmOv4ALTo+dQw7yFZQO9VHXTzfsn08xcIqPYAgTD15AiU+bsE8PpmmbD5Tc5c+mStTOCwUmjlpZqM5LXCGOsldKzv7ucc7OQW5PJVn1z3lNp89vyqMPZu57T1Q6VE+jWdOPltV6T3i9aE9Ln8nOjK4EDvDmHM7NQ6SO5CTNTxp7AQ9DLS+PefXeT4dBzU+GiT6PWxB2j3Zeak9vNVSPSzx+DyjlBw9Nsq+OqBVnzsvR5Y7DPYtPEK4xTz0s3c9Yio8PrDDSz6sySQ+JoARPu0OlD1Ss4U9p2wRPcA7fDyjXaA8OtKgOJ0TJzolDjw68V8DOy3IbTth3gk8LQYGPVZXSj7ZfeU9RqDAPSKHHT6hPwM+yKbOPYdbij2iecc9WjYkOgDtlDurQT88w+XAPEOpSD1BV1A9421lPgLhVD46I/89LzD+PYe1aD1Quk89Qc8dPcMvijyQdYQ8\"},\"shape\":[12,15],\"dtype\":\"float32\",\"order\":\"little\"}]]]}}},\"view\":{\"type\":\"object\",\"name\":\"CDSView\",\"id\":\"p1273\",\"attributes\":{\"filter\":{\"type\":\"object\",\"name\":\"AllIndices\",\"id\":\"p1274\"}}},\"glyph\":{\"type\":\"object\",\"name\":\"Image\",\"id\":\"p1263\",\"attributes\":{\"x\":{\"type\":\"value\",\"value\":0},\"y\":{\"type\":\"value\",\"value\":0},\"dw\":{\"type\":\"value\",\"value\":15},\"dh\":{\"type\":\"value\",\"value\":12},\"image\":{\"type\":\"field\",\"field\":\"image\"},\"color_mapper\":{\"type\":\"object\",\"name\":\"LinearColorMapper\",\"id\":\"p1264\",\"attributes\":{\"palette\":[\"#000000\",\"#252525\",\"#525252\",\"#737373\",\"#969696\",\"#bdbdbd\",\"#d9d9d9\",\"#f0f0f0\",\"#ffffff\"]}}}},\"nonselection_glyph\":{\"type\":\"object\",\"name\":\"Image\",\"id\":\"p1266\",\"attributes\":{\"x\":{\"type\":\"value\",\"value\":0},\"y\":{\"type\":\"value\",\"value\":0},\"dw\":{\"type\":\"value\",\"value\":15},\"dh\":{\"type\":\"value\",\"value\":12},\"global_alpha\":{\"type\":\"value\",\"value\":0.1},\"image\":{\"type\":\"field\",\"field\":\"image\"},\"color_mapper\":{\"type\":\"object\",\"name\":\"LinearColorMapper\",\"id\":\"p1267\",\"attributes\":{\"palette\":[\"#000000\",\"#252525\",\"#525252\",\"#737373\",\"#969696\",\"#bdbdbd\",\"#d9d9d9\",\"#f0f0f0\",\"#ffffff\"]}}}},\"muted_glyph\":{\"type\":\"object\",\"name\":\"Image\",\"id\":\"p1269\",\"attributes\":{\"x\":{\"type\":\"value\",\"value\":0},\"y\":{\"type\":\"value\",\"value\":0},\"dw\":{\"type\":\"value\",\"value\":15},\"dh\":{\"type\":\"value\",\"value\":12},\"global_alpha\":{\"type\":\"value\",\"value\":0.2},\"image\":{\"type\":\"field\",\"field\":\"image\"},\"color_mapper\":{\"type\":\"object\",\"name\":\"LinearColorMapper\",\"id\":\"p1270\",\"attributes\":{\"palette\":[\"#000000\",\"#252525\",\"#525252\",\"#737373\",\"#969696\",\"#bdbdbd\",\"#d9d9d9\",\"#f0f0f0\",\"#ffffff\"]}}}}}}],\"toolbar\":{\"type\":\"object\",\"name\":\"Toolbar\",\"id\":\"p1255\"},\"left\":[{\"type\":\"object\",\"name\":\"LinearAxis\",\"id\":\"p1280\",\"attributes\":{\"ticker\":{\"type\":\"object\",\"name\":\"FixedTicker\",\"id\":\"p1284\",\"attributes\":{\"ticks\":{\"type\":\"ndarray\",\"array\":{\"type\":\"bytes\",\"data\":\"AAAAAAAA4D8AAAAAAAD4PwAAAAAAAARAAAAAAAAADEAAAAAAAAASQAAAAAAAABZAAAAAAAAAGkAAAAAAAAAeQAAAAAAAACFAAAAAAAAAI0AAAAAAAAAlQAAAAAAAACdA\"},\"shape\":[12],\"dtype\":\"float64\",\"order\":\"little\"},\"minor_ticks\":[]}},\"formatter\":{\"type\":\"object\",\"name\":\"BasicTickFormatter\",\"id\":\"p1282\"},\"axis_label\":\"translation tokens\",\"major_label_overrides\":{\"type\":\"map\",\"entries\":[[0.5,\"_EOS_\"],[1.5,\".\"],[2.5,\"parking\"],[3.5,\"free\"],[4.5,\"and\"],[5.5,\",\"],[6.5,\"hire\"],[7.5,\"bike\"],[8.5,\"offers\"],[9.5,\"property\"],[10.5,\"the\"],[11.5,\"_BOS_\"]]},\"major_label_policy\":{\"type\":\"object\",\"name\":\"AllLabels\",\"id\":\"p1283\"}}}],\"above\":[{\"type\":\"object\",\"name\":\"LinearAxis\",\"id\":\"p1275\",\"attributes\":{\"ticker\":{\"type\":\"object\",\"name\":\"FixedTicker\",\"id\":\"p1279\",\"attributes\":{\"ticks\":{\"type\":\"ndarray\",\"array\":{\"type\":\"bytes\",\"data\":\"AAAAAAAA4D8AAAAAAAD4PwAAAAAAAARAAAAAAAAADEAAAAAAAAASQAAAAAAAABZAAAAAAAAAGkAAAAAAAAAeQAAAAAAAACFAAAAAAAAAI0AAAAAAAAAlQAAAAAAAACdAAAAAAAAAKUAAAAAAAAArQAAAAAAAAC1A\"},\"shape\":[15],\"dtype\":\"float64\",\"order\":\"little\"},\"minor_ticks\":[]}},\"formatter\":{\"type\":\"object\",\"name\":\"BasicTickFormatter\",\"id\":\"p1277\"},\"axis_label\":\"source tokens\",\"major_label_orientation\":45,\"major_label_overrides\":{\"type\":\"map\",\"entries\":[[0.5,\"_BOS_\"],[1.5,\"\\u043a\\u0440\\u043e\\u043c\\u0435\"],[2.5,\"\\u0442\\u043e\\u0433\\u043e\"],[3.5,\",\"],[4.5,\"\\u043f\\u0440\\u0435\\u0434\\u043e\\u0441\\u0442\\u0430\\u0432\\u043b\\u044f\\u0435\\u0442\\u0441\\u044f\"],[5.5,\"\\u043f\\u0440\\u043e\\u043a\\u0430\\u0442\"],[6.5,\"\\u0432\\u0435\\u043b\\u043e\\u0441\\u0438\\u043f\\u0435\\u0434\\u043e\\u0432\"],[7.5,\",\"],[8.5,\"\\u0443\\u0441\\u043b\\u0443\\u0433\\u0438\"],[9.5,\"\\u0442\\u0440\\u0430\\u043d\\u0441\\u0444\\u0435\\u0440\\u0430\"],[10.5,\"\\u0438\"],[11.5,\"\\u0431\\u0435\\u0441\\u043f\\u043b\\u0430\\u0442\\u043d\\u0430\\u044f\"],[12.5,\"\\u043f\\u0430\\u0440\\u043a\\u043e\\u0432\\u043a\\u0430\"],[13.5,\".\"],[14.5,\"_EOS_\"]]},\"major_label_policy\":{\"type\":\"object\",\"name\":\"AllLabels\",\"id\":\"p1278\"}}}]}}]}};\n",
              "  const render_items = [{\"docid\":\"4401c536-830d-4754-a1cb-e878946dc745\",\"roots\":{\"p1247\":\"a6aea34c-b67d-4489-af05-4be9c4b21786\"},\"root_ids\":[\"p1247\"]}];\n",
              "  root.Bokeh.embed.embed_items_notebook(docs_json, render_items);\n",
              "  }\n",
              "  if (root.Bokeh !== undefined) {\n",
              "    embed_document(root);\n",
              "  } else {\n",
              "    let attempts = 0;\n",
              "    const timer = setInterval(function(root) {\n",
              "      if (root.Bokeh !== undefined) {\n",
              "        clearInterval(timer);\n",
              "        embed_document(root);\n",
              "      } else {\n",
              "        attempts++;\n",
              "        if (attempts > 100) {\n",
              "          clearInterval(timer);\n",
              "          console.log(\"Bokeh: ERROR: Unable to run BokehJS code because BokehJS library is missing\");\n",
              "        }\n",
              "      }\n",
              "    }, 10, root)\n",
              "  }\n",
              "})(window);"
            ],
            "application/vnd.bokehjs_exec.v0+json": ""
          },
          "metadata": {
            "application/vnd.bokehjs_exec.v0+json": {
              "id": "p1247"
            }
          }
        },
        {
          "output_type": "display_data",
          "data": {
            "text/html": [
              "\n",
              "  <div id=\"b37445d1-83ff-4117-a3f9-75e8db14128a\" data-root-id=\"p1288\" style=\"display: contents;\"></div>\n"
            ]
          },
          "metadata": {}
        },
        {
          "output_type": "display_data",
          "data": {
            "application/javascript": [
              "(function(root) {\n",
              "  function embed_document(root) {\n",
              "  const docs_json = {\"39af6560-bd64-4ccd-a340-4fa6ac93e24f\":{\"version\":\"3.3.4\",\"title\":\"Bokeh Application\",\"roots\":[{\"type\":\"object\",\"name\":\"Figure\",\"id\":\"p1288\",\"attributes\":{\"x_range\":{\"type\":\"object\",\"name\":\"Range1d\",\"id\":\"p1297\",\"attributes\":{\"end\":13}},\"y_range\":{\"type\":\"object\",\"name\":\"Range1d\",\"id\":\"p1298\",\"attributes\":{\"end\":12}},\"x_scale\":{\"type\":\"object\",\"name\":\"LinearScale\",\"id\":\"p1299\"},\"y_scale\":{\"type\":\"object\",\"name\":\"LinearScale\",\"id\":\"p1300\"},\"title\":{\"type\":\"object\",\"name\":\"Title\",\"id\":\"p1295\"},\"renderers\":[{\"type\":\"object\",\"name\":\"GlyphRenderer\",\"id\":\"p1313\",\"attributes\":{\"data_source\":{\"type\":\"object\",\"name\":\"ColumnDataSource\",\"id\":\"p1301\",\"attributes\":{\"selected\":{\"type\":\"object\",\"name\":\"Selection\",\"id\":\"p1302\",\"attributes\":{\"indices\":[],\"line_indices\":[]}},\"selection_policy\":{\"type\":\"object\",\"name\":\"UnionRenderers\",\"id\":\"p1303\"},\"data\":{\"type\":\"map\",\"entries\":[[\"image\",[{\"type\":\"ndarray\",\"array\":{\"type\":\"bytes\",\"data\":\"zqW7OsnsgzuMUII8Jq4DPVNJVz1B/Js9kwGBPfU4fD3Iot08REMcPXCrrT24RtI91VXgPjuGJDroQqQ64RbDOyHWmTwh2qQ8bPPRPAcK4zwA2s08tplyPIAIKj3lGAE+dVydPV+RHT8vipc6pdunO6ufDTx8vWw81HXCPDF/VD3WTCc9D75QPS+epDy4Tfs82lk6PThTxz0J+xs/hXJYOipSBjv8qC88S86HPHsj/jwvvas9709pPdWyqz3O57o88c9uPZesKT1L7MQ9FKf9Pi9p9zpguKg7g324PH/R9zwtUyM9L6CCPeUZaT2rRYo9xW0bPYzrkD0nqIA9kou7PUfe5T6hVEk3fUxfONoqaDq2E147Ixy6Oy0jsjvsOm07cDd+OxvnzzrnfOQ7Bdo9PmLBTz4chxQ/PH2bOA7zGTkZXQc7g38kPIRtjDy5s0w8h3UpPEwBYjzSUx882/hbPLvRkj7ogr4+G/mAPm1rMDo/qa467IXjOw7HyzxwXN88Dx2zPLYXjjwkUpk8jTBBPSW3dD6ktac+LCsvPvgNxT1mzd46iOgJO4w0GTxlVKA8UlT+PLURPj2SaFk9Pu6DPb+ygj0imps+xKBdPpEJAT4akn49H8qtOvG/lDttNHE8HZSQPA4v8jzwLjE91vRDPV46dD2ndos99xcdPuvQbj4huyU+19AoPm9TCjjCcAA5ayWuOhn2/juIopA8kifEPF+QtDwsouI8elNEPI3A8z0fEb8+IStRPuCPQz5nzBc7WXxnO6HhODwc7Os8LFljPeJgsD1VVJU9Jr1aPf5YQD7TJq0+ulXIPZgvID23y708\"},\"shape\":[12,13],\"dtype\":\"float32\",\"order\":\"little\"}]]]}}},\"view\":{\"type\":\"object\",\"name\":\"CDSView\",\"id\":\"p1314\",\"attributes\":{\"filter\":{\"type\":\"object\",\"name\":\"AllIndices\",\"id\":\"p1315\"}}},\"glyph\":{\"type\":\"object\",\"name\":\"Image\",\"id\":\"p1304\",\"attributes\":{\"x\":{\"type\":\"value\",\"value\":0},\"y\":{\"type\":\"value\",\"value\":0},\"dw\":{\"type\":\"value\",\"value\":13},\"dh\":{\"type\":\"value\",\"value\":12},\"image\":{\"type\":\"field\",\"field\":\"image\"},\"color_mapper\":{\"type\":\"object\",\"name\":\"LinearColorMapper\",\"id\":\"p1305\",\"attributes\":{\"palette\":[\"#000000\",\"#252525\",\"#525252\",\"#737373\",\"#969696\",\"#bdbdbd\",\"#d9d9d9\",\"#f0f0f0\",\"#ffffff\"]}}}},\"nonselection_glyph\":{\"type\":\"object\",\"name\":\"Image\",\"id\":\"p1307\",\"attributes\":{\"x\":{\"type\":\"value\",\"value\":0},\"y\":{\"type\":\"value\",\"value\":0},\"dw\":{\"type\":\"value\",\"value\":13},\"dh\":{\"type\":\"value\",\"value\":12},\"global_alpha\":{\"type\":\"value\",\"value\":0.1},\"image\":{\"type\":\"field\",\"field\":\"image\"},\"color_mapper\":{\"type\":\"object\",\"name\":\"LinearColorMapper\",\"id\":\"p1308\",\"attributes\":{\"palette\":[\"#000000\",\"#252525\",\"#525252\",\"#737373\",\"#969696\",\"#bdbdbd\",\"#d9d9d9\",\"#f0f0f0\",\"#ffffff\"]}}}},\"muted_glyph\":{\"type\":\"object\",\"name\":\"Image\",\"id\":\"p1310\",\"attributes\":{\"x\":{\"type\":\"value\",\"value\":0},\"y\":{\"type\":\"value\",\"value\":0},\"dw\":{\"type\":\"value\",\"value\":13},\"dh\":{\"type\":\"value\",\"value\":12},\"global_alpha\":{\"type\":\"value\",\"value\":0.2},\"image\":{\"type\":\"field\",\"field\":\"image\"},\"color_mapper\":{\"type\":\"object\",\"name\":\"LinearColorMapper\",\"id\":\"p1311\",\"attributes\":{\"palette\":[\"#000000\",\"#252525\",\"#525252\",\"#737373\",\"#969696\",\"#bdbdbd\",\"#d9d9d9\",\"#f0f0f0\",\"#ffffff\"]}}}}}}],\"toolbar\":{\"type\":\"object\",\"name\":\"Toolbar\",\"id\":\"p1296\"},\"left\":[{\"type\":\"object\",\"name\":\"LinearAxis\",\"id\":\"p1321\",\"attributes\":{\"ticker\":{\"type\":\"object\",\"name\":\"FixedTicker\",\"id\":\"p1325\",\"attributes\":{\"ticks\":{\"type\":\"ndarray\",\"array\":{\"type\":\"bytes\",\"data\":\"AAAAAAAA4D8AAAAAAAD4PwAAAAAAAARAAAAAAAAADEAAAAAAAAASQAAAAAAAABZAAAAAAAAAGkAAAAAAAAAeQAAAAAAAACFAAAAAAAAAI0AAAAAAAAAlQAAAAAAAACdA\"},\"shape\":[12],\"dtype\":\"float64\",\"order\":\"little\"},\"minor_ticks\":[]}},\"formatter\":{\"type\":\"object\",\"name\":\"BasicTickFormatter\",\"id\":\"p1323\"},\"axis_label\":\"translation tokens\",\"major_label_overrides\":{\"type\":\"map\",\"entries\":[[0.5,\"_EOS_\"],[1.5,\".\"],[2.5,\"property\"],[3.5,\"the\"],[4.5,\"from\"],[5.5,\"km\"],[6.5,\"florence\"],[7.5,\"is\"],[8.5,\"airport\"],[9.5,\"nearest\"],[10.5,\"the\"],[11.5,\"_BOS_\"]]},\"major_label_policy\":{\"type\":\"object\",\"name\":\"AllLabels\",\"id\":\"p1324\"}}}],\"above\":[{\"type\":\"object\",\"name\":\"LinearAxis\",\"id\":\"p1316\",\"attributes\":{\"ticker\":{\"type\":\"object\",\"name\":\"FixedTicker\",\"id\":\"p1320\",\"attributes\":{\"ticks\":{\"type\":\"ndarray\",\"array\":{\"type\":\"bytes\",\"data\":\"AAAAAAAA4D8AAAAAAAD4PwAAAAAAAARAAAAAAAAADEAAAAAAAAASQAAAAAAAABZAAAAAAAAAGkAAAAAAAAAeQAAAAAAAACFAAAAAAAAAI0AAAAAAAAAlQAAAAAAAACdAAAAAAAAAKUA=\"},\"shape\":[13],\"dtype\":\"float64\",\"order\":\"little\"},\"minor_ticks\":[]}},\"formatter\":{\"type\":\"object\",\"name\":\"BasicTickFormatter\",\"id\":\"p1318\"},\"axis_label\":\"source tokens\",\"major_label_orientation\":45,\"major_label_overrides\":{\"type\":\"map\",\"entries\":[[0.5,\"_BOS_\"],[1.5,\"\\u0440\\u0430\\u0441\\u0441\\u0442\\u043e\\u044f\\u043d\\u0438\\u0435\"],[2.5,\"\\u0434\\u043e\"],[3.5,\"\\u0433\\u043e\\u0440\\u043e\\u0434\\u0430\"],[4.5,\"\\u043a\\u0438@@\"],[5.5,\"\\u0441\\u0441\\u0438@@\"],[6.5,\"\\u043c@@\"],[7.5,\"\\u043c\\u0438\"],[8.5,\"\\u0441\\u043e\\u0441\\u0442\\u0430\\u0432\\u043b\\u044f\\u0435\\u0442\"],[9.5,\"26\"],[10.5,\"\\u043a\\u043c\"],[11.5,\".\"],[12.5,\"_EOS_\"]]},\"major_label_policy\":{\"type\":\"object\",\"name\":\"AllLabels\",\"id\":\"p1319\"}}}]}}]}};\n",
              "  const render_items = [{\"docid\":\"39af6560-bd64-4ccd-a340-4fa6ac93e24f\",\"roots\":{\"p1288\":\"b37445d1-83ff-4117-a3f9-75e8db14128a\"},\"root_ids\":[\"p1288\"]}];\n",
              "  root.Bokeh.embed.embed_items_notebook(docs_json, render_items);\n",
              "  }\n",
              "  if (root.Bokeh !== undefined) {\n",
              "    embed_document(root);\n",
              "  } else {\n",
              "    let attempts = 0;\n",
              "    const timer = setInterval(function(root) {\n",
              "      if (root.Bokeh !== undefined) {\n",
              "        clearInterval(timer);\n",
              "        embed_document(root);\n",
              "      } else {\n",
              "        attempts++;\n",
              "        if (attempts > 100) {\n",
              "          clearInterval(timer);\n",
              "          console.log(\"Bokeh: ERROR: Unable to run BokehJS code because BokehJS library is missing\");\n",
              "        }\n",
              "      }\n",
              "    }, 10, root)\n",
              "  }\n",
              "})(window);"
            ],
            "application/vnd.bokehjs_exec.v0+json": ""
          },
          "metadata": {
            "application/vnd.bokehjs_exec.v0+json": {
              "id": "p1288"
            }
          }
        },
        {
          "output_type": "display_data",
          "data": {
            "text/html": [
              "\n",
              "  <div id=\"b02f7e94-a616-4593-87bc-bd41d1036c2b\" data-root-id=\"p1329\" style=\"display: contents;\"></div>\n"
            ]
          },
          "metadata": {}
        },
        {
          "output_type": "display_data",
          "data": {
            "application/javascript": [
              "(function(root) {\n",
              "  function embed_document(root) {\n",
              "  const docs_json = {\"6632f7d4-5d3d-4db9-ae5c-d7880a969356\":{\"version\":\"3.3.4\",\"title\":\"Bokeh Application\",\"roots\":[{\"type\":\"object\",\"name\":\"Figure\",\"id\":\"p1329\",\"attributes\":{\"x_range\":{\"type\":\"object\",\"name\":\"Range1d\",\"id\":\"p1338\",\"attributes\":{\"end\":32}},\"y_range\":{\"type\":\"object\",\"name\":\"Range1d\",\"id\":\"p1339\",\"attributes\":{\"end\":28}},\"x_scale\":{\"type\":\"object\",\"name\":\"LinearScale\",\"id\":\"p1340\"},\"y_scale\":{\"type\":\"object\",\"name\":\"LinearScale\",\"id\":\"p1341\"},\"title\":{\"type\":\"object\",\"name\":\"Title\",\"id\":\"p1336\"},\"renderers\":[{\"type\":\"object\",\"name\":\"GlyphRenderer\",\"id\":\"p1354\",\"attributes\":{\"data_source\":{\"type\":\"object\",\"name\":\"ColumnDataSource\",\"id\":\"p1342\",\"attributes\":{\"selected\":{\"type\":\"object\",\"name\":\"Selection\",\"id\":\"p1343\",\"attributes\":{\"indices\":[],\"line_indices\":[]}},\"selection_policy\":{\"type\":\"object\",\"name\":\"UnionRenderers\",\"id\":\"p1344\"},\"data\":{\"type\":\"map\",\"entries\":[[\"image\",[{\"type\":\"ndarray\",\"array\":{\"type\":\"bytes\",\"data\":\"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\"},\"shape\":[28,32],\"dtype\":\"float32\",\"order\":\"little\"}]]]}}},\"view\":{\"type\":\"object\",\"name\":\"CDSView\",\"id\":\"p1355\",\"attributes\":{\"filter\":{\"type\":\"object\",\"name\":\"AllIndices\",\"id\":\"p1356\"}}},\"glyph\":{\"type\":\"object\",\"name\":\"Image\",\"id\":\"p1345\",\"attributes\":{\"x\":{\"type\":\"value\",\"value\":0},\"y\":{\"type\":\"value\",\"value\":0},\"dw\":{\"type\":\"value\",\"value\":32},\"dh\":{\"type\":\"value\",\"value\":28},\"image\":{\"type\":\"field\",\"field\":\"image\"},\"color_mapper\":{\"type\":\"object\",\"name\":\"LinearColorMapper\",\"id\":\"p1346\",\"attributes\":{\"palette\":[\"#000000\",\"#252525\",\"#525252\",\"#737373\",\"#969696\",\"#bdbdbd\",\"#d9d9d9\",\"#f0f0f0\",\"#ffffff\"]}}}},\"nonselection_glyph\":{\"type\":\"object\",\"name\":\"Image\",\"id\":\"p1348\",\"attributes\":{\"x\":{\"type\":\"value\",\"value\":0},\"y\":{\"type\":\"value\",\"value\":0},\"dw\":{\"type\":\"value\",\"value\":32},\"dh\":{\"type\":\"value\",\"value\":28},\"global_alpha\":{\"type\":\"value\",\"value\":0.1},\"image\":{\"type\":\"field\",\"field\":\"image\"},\"color_mapper\":{\"type\":\"object\",\"name\":\"LinearColorMapper\",\"id\":\"p1349\",\"attributes\":{\"palette\":[\"#000000\",\"#252525\",\"#525252\",\"#737373\",\"#969696\",\"#bdbdbd\",\"#d9d9d9\",\"#f0f0f0\",\"#ffffff\"]}}}},\"muted_glyph\":{\"type\":\"object\",\"name\":\"Image\",\"id\":\"p1351\",\"attributes\":{\"x\":{\"type\":\"value\",\"value\":0},\"y\":{\"type\":\"value\",\"value\":0},\"dw\":{\"type\":\"value\",\"value\":32},\"dh\":{\"type\":\"value\",\"value\":28},\"global_alpha\":{\"type\":\"value\",\"value\":0.2},\"image\":{\"type\":\"field\",\"field\":\"image\"},\"color_mapper\":{\"type\":\"object\",\"name\":\"LinearColorMapper\",\"id\":\"p1352\",\"attributes\":{\"palette\":[\"#000000\",\"#252525\",\"#525252\",\"#737373\",\"#969696\",\"#bdbdbd\",\"#d9d9d9\",\"#f0f0f0\",\"#ffffff\"]}}}}}}],\"toolbar\":{\"type\":\"object\",\"name\":\"Toolbar\",\"id\":\"p1337\"},\"left\":[{\"type\":\"object\",\"name\":\"LinearAxis\",\"id\":\"p1362\",\"attributes\":{\"ticker\":{\"type\":\"object\",\"name\":\"FixedTicker\",\"id\":\"p1366\",\"attributes\":{\"ticks\":{\"type\":\"ndarray\",\"array\":{\"type\":\"bytes\",\"data\":\"AAAAAAAA4D8AAAAAAAD4PwAAAAAAAARAAAAAAAAADEAAAAAAAAASQAAAAAAAABZAAAAAAAAAGkAAAAAAAAAeQAAAAAAAACFAAAAAAAAAI0AAAAAAAAAlQAAAAAAAACdAAAAAAAAAKUAAAAAAAAArQAAAAAAAAC1AAAAAAAAAL0AAAAAAAIAwQAAAAAAAgDFAAAAAAACAMkAAAAAAAIAzQAAAAAAAgDRAAAAAAACANUAAAAAAAIA2QAAAAAAAgDdAAAAAAACAOEAAAAAAAIA5QAAAAAAAgDpAAAAAAACAO0A=\"},\"shape\":[28],\"dtype\":\"float64\",\"order\":\"little\"},\"minor_ticks\":[]}},\"formatter\":{\"type\":\"object\",\"name\":\"BasicTickFormatter\",\"id\":\"p1364\"},\"axis_label\":\"translation tokens\",\"major_label_overrides\":{\"type\":\"map\",\"entries\":[[0.5,\"_EOS_\"],[1.5,\".\"],[2.5,\"centre\"],[3.5,\"town\"],[4.5,\"the\"],[5.5,\"of\"],[6.5,\"centre\"],[7.5,\"the\"],[8.5,\"in\"],[9.5,\"located\"],[10.5,\"is\"],[11.5,\"apartment\"],[12.5,\"conditioned\"],[13.5,\"-\"],[14.5,\"air\"],[15.5,\"and\"],[16.5,\"garden\"],[17.5,\",\"],[18.5,\"terrace\"],[19.5,\"a\"],[20.5,\",\"],[21.5,\"garden\"],[22.5,\"a\"],[23.5,\",\"],[24.5,\"garden\"],[25.5,\"a\"],[26.5,\"featuring\"],[27.5,\"_BOS_\"]]},\"major_label_policy\":{\"type\":\"object\",\"name\":\"AllLabels\",\"id\":\"p1365\"}}}],\"above\":[{\"type\":\"object\",\"name\":\"LinearAxis\",\"id\":\"p1357\",\"attributes\":{\"ticker\":{\"type\":\"object\",\"name\":\"FixedTicker\",\"id\":\"p1361\",\"attributes\":{\"ticks\":{\"type\":\"ndarray\",\"array\":{\"type\":\"bytes\",\"data\":\"AAAAAAAA4D8AAAAAAAD4PwAAAAAAAARAAAAAAAAADEAAAAAAAAASQAAAAAAAABZAAAAAAAAAGkAAAAAAAAAeQAAAAAAAACFAAAAAAAAAI0AAAAAAAAAlQAAAAAAAACdAAAAAAAAAKUAAAAAAAAArQAAAAAAAAC1AAAAAAAAAL0AAAAAAAIAwQAAAAAAAgDFAAAAAAACAMkAAAAAAAIAzQAAAAAAAgDRAAAAAAACANUAAAAAAAIA2QAAAAAAAgDdAAAAAAACAOEAAAAAAAIA5QAAAAAAAgDpAAAAAAACAO0AAAAAAAIA8QAAAAAAAgD1AAAAAAACAPkAAAAAAAIA/QA==\"},\"shape\":[32],\"dtype\":\"float64\",\"order\":\"little\"},\"minor_ticks\":[]}},\"formatter\":{\"type\":\"object\",\"name\":\"BasicTickFormatter\",\"id\":\"p1359\"},\"axis_label\":\"source tokens\",\"major_label_orientation\":45,\"major_label_overrides\":{\"type\":\"map\",\"entries\":[[0.5,\"_BOS_\"],[1.5,\"\\u0430\\u043f\\u0430\\u0440\\u0442\\u0430\\u043c\\u0435\\u043d\\u0442\\u044b\"],[2.5,\"\\u0432\"],[3.5,\"\\u043f\\u0435\\u043d\\u0442@@\"],[4.5,\"\\u0445\\u0430\\u0443\\u0441\\u0435\"],[5.5,\"\\u0441\"],[6.5,\"\\u043e\\u0431\\u0449\\u0438\\u043c\"],[7.5,\"\\u043e\\u0442\\u043a\\u0440\\u044b\\u0442\\u044b\\u043c\"],[8.5,\"\\u0431\\u0430\\u0441\\u0441\\u0435\\u0439\\u043d\\u043e\\u043c\"],[9.5,\",\"],[10.5,\"\\u0441\\u0430\\u0434\\u043e\\u043c\"],[11.5,\",\"],[12.5,\"\\u043a\\u043e\\u043d\\u0434\\u0438\\u0446\\u0438\\u043e\\u043d\\u0435\\u0440\\u043e\\u043c\"],[13.5,\"\\u0438\"],[14.5,\"\\u0442\\u0435\\u0440\\u0440\\u0430\\u0441\\u043e\\u0439\"],[15.5,\"\\u0434\\u043b\\u044f\"],[16.5,\"\\u0437\\u0430\\u0433\\u0430\\u0440\\u0430\"],[17.5,\"\\u0440\\u0430\\u0441\\u043f\\u043e\\u043b\\u043e\\u0436\\u0435\\u043d\\u044b\"],[18.5,\"\\u0432\"],[19.5,\"5\"],[20.5,\"\\u043c\\u0438\\u043d\\u0443\\u0442\\u0430\\u0445\"],[21.5,\"\\u0445\\u043e\\u0434\\u044c\\u0431\\u044b\"],[22.5,\"\\u043e\\u0442\"],[23.5,\"\\u043f\\u043b\\u044f\\u0436\\u0430\"],[24.5,\"\\u043d\\u0430\"],[25.5,\"\\u043a\\u0443\\u0440\\u043e\\u0440\\u0442\\u0435\"],[26.5,\"\\u043a\\u0430@@\"],[27.5,\"\\u0431\\u043e\"],[28.5,\"-\"],[29.5,\"\\u0440\\u043e\\u0439\"],[30.5,\".\"],[31.5,\"_EOS_\"]]},\"major_label_policy\":{\"type\":\"object\",\"name\":\"AllLabels\",\"id\":\"p1360\"}}}]}}]}};\n",
              "  const render_items = [{\"docid\":\"6632f7d4-5d3d-4db9-ae5c-d7880a969356\",\"roots\":{\"p1329\":\"b02f7e94-a616-4593-87bc-bd41d1036c2b\"},\"root_ids\":[\"p1329\"]}];\n",
              "  root.Bokeh.embed.embed_items_notebook(docs_json, render_items);\n",
              "  }\n",
              "  if (root.Bokeh !== undefined) {\n",
              "    embed_document(root);\n",
              "  } else {\n",
              "    let attempts = 0;\n",
              "    const timer = setInterval(function(root) {\n",
              "      if (root.Bokeh !== undefined) {\n",
              "        clearInterval(timer);\n",
              "        embed_document(root);\n",
              "      } else {\n",
              "        attempts++;\n",
              "        if (attempts > 100) {\n",
              "          clearInterval(timer);\n",
              "          console.log(\"Bokeh: ERROR: Unable to run BokehJS code because BokehJS library is missing\");\n",
              "        }\n",
              "      }\n",
              "    }, 10, root)\n",
              "  }\n",
              "})(window);"
            ],
            "application/vnd.bokehjs_exec.v0+json": ""
          },
          "metadata": {
            "application/vnd.bokehjs_exec.v0+json": {
              "id": "p1329"
            }
          }
        },
        {
          "output_type": "display_data",
          "data": {
            "text/html": [
              "\n",
              "  <div id=\"e74605bd-7b27-43b4-94f0-f99a565bdbf5\" data-root-id=\"p1370\" style=\"display: contents;\"></div>\n"
            ]
          },
          "metadata": {}
        },
        {
          "output_type": "display_data",
          "data": {
            "application/javascript": [
              "(function(root) {\n",
              "  function embed_document(root) {\n",
              "  const docs_json = {\"0a8ec06f-49e8-41dd-97a9-cb32be6ad2c1\":{\"version\":\"3.3.4\",\"title\":\"Bokeh Application\",\"roots\":[{\"type\":\"object\",\"name\":\"Figure\",\"id\":\"p1370\",\"attributes\":{\"x_range\":{\"type\":\"object\",\"name\":\"Range1d\",\"id\":\"p1379\",\"attributes\":{\"end\":23}},\"y_range\":{\"type\":\"object\",\"name\":\"Range1d\",\"id\":\"p1380\",\"attributes\":{\"end\":25}},\"x_scale\":{\"type\":\"object\",\"name\":\"LinearScale\",\"id\":\"p1381\"},\"y_scale\":{\"type\":\"object\",\"name\":\"LinearScale\",\"id\":\"p1382\"},\"title\":{\"type\":\"object\",\"name\":\"Title\",\"id\":\"p1377\"},\"renderers\":[{\"type\":\"object\",\"name\":\"GlyphRenderer\",\"id\":\"p1395\",\"attributes\":{\"data_source\":{\"type\":\"object\",\"name\":\"ColumnDataSource\",\"id\":\"p1383\",\"attributes\":{\"selected\":{\"type\":\"object\",\"name\":\"Selection\",\"id\":\"p1384\",\"attributes\":{\"indices\":[],\"line_indices\":[]}},\"selection_policy\":{\"type\":\"object\",\"name\":\"UnionRenderers\",\"id\":\"p1385\"},\"data\":{\"type\":\"map\",\"entries\":[[\"image\",[{\"type\":\"ndarray\",\"array\":{\"type\":\"bytes\",\"data\":\"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\"},\"shape\":[25,23],\"dtype\":\"float32\",\"order\":\"little\"}]]]}}},\"view\":{\"type\":\"object\",\"name\":\"CDSView\",\"id\":\"p1396\",\"attributes\":{\"filter\":{\"type\":\"object\",\"name\":\"AllIndices\",\"id\":\"p1397\"}}},\"glyph\":{\"type\":\"object\",\"name\":\"Image\",\"id\":\"p1386\",\"attributes\":{\"x\":{\"type\":\"value\",\"value\":0},\"y\":{\"type\":\"value\",\"value\":0},\"dw\":{\"type\":\"value\",\"value\":23},\"dh\":{\"type\":\"value\",\"value\":25},\"image\":{\"type\":\"field\",\"field\":\"image\"},\"color_mapper\":{\"type\":\"object\",\"name\":\"LinearColorMapper\",\"id\":\"p1387\",\"attributes\":{\"palette\":[\"#000000\",\"#252525\",\"#525252\",\"#737373\",\"#969696\",\"#bdbdbd\",\"#d9d9d9\",\"#f0f0f0\",\"#ffffff\"]}}}},\"nonselection_glyph\":{\"type\":\"object\",\"name\":\"Image\",\"id\":\"p1389\",\"attributes\":{\"x\":{\"type\":\"value\",\"value\":0},\"y\":{\"type\":\"value\",\"value\":0},\"dw\":{\"type\":\"value\",\"value\":23},\"dh\":{\"type\":\"value\",\"value\":25},\"global_alpha\":{\"type\":\"value\",\"value\":0.1},\"image\":{\"type\":\"field\",\"field\":\"image\"},\"color_mapper\":{\"type\":\"object\",\"name\":\"LinearColorMapper\",\"id\":\"p1390\",\"attributes\":{\"palette\":[\"#000000\",\"#252525\",\"#525252\",\"#737373\",\"#969696\",\"#bdbdbd\",\"#d9d9d9\",\"#f0f0f0\",\"#ffffff\"]}}}},\"muted_glyph\":{\"type\":\"object\",\"name\":\"Image\",\"id\":\"p1392\",\"attributes\":{\"x\":{\"type\":\"value\",\"value\":0},\"y\":{\"type\":\"value\",\"value\":0},\"dw\":{\"type\":\"value\",\"value\":23},\"dh\":{\"type\":\"value\",\"value\":25},\"global_alpha\":{\"type\":\"value\",\"value\":0.2},\"image\":{\"type\":\"field\",\"field\":\"image\"},\"color_mapper\":{\"type\":\"object\",\"name\":\"LinearColorMapper\",\"id\":\"p1393\",\"attributes\":{\"palette\":[\"#000000\",\"#252525\",\"#525252\",\"#737373\",\"#969696\",\"#bdbdbd\",\"#d9d9d9\",\"#f0f0f0\",\"#ffffff\"]}}}}}}],\"toolbar\":{\"type\":\"object\",\"name\":\"Toolbar\",\"id\":\"p1378\"},\"left\":[{\"type\":\"object\",\"name\":\"LinearAxis\",\"id\":\"p1403\",\"attributes\":{\"ticker\":{\"type\":\"object\",\"name\":\"FixedTicker\",\"id\":\"p1407\",\"attributes\":{\"ticks\":{\"type\":\"ndarray\",\"array\":{\"type\":\"bytes\",\"data\":\"AAAAAAAA4D8AAAAAAAD4PwAAAAAAAARAAAAAAAAADEAAAAAAAAASQAAAAAAAABZAAAAAAAAAGkAAAAAAAAAeQAAAAAAAACFAAAAAAAAAI0AAAAAAAAAlQAAAAAAAACdAAAAAAAAAKUAAAAAAAAArQAAAAAAAAC1AAAAAAAAAL0AAAAAAAIAwQAAAAAAAgDFAAAAAAACAMkAAAAAAAIAzQAAAAAAAgDRAAAAAAACANUAAAAAAAIA2QAAAAAAAgDdAAAAAAACAOEA=\"},\"shape\":[25],\"dtype\":\"float64\",\"order\":\"little\"},\"minor_ticks\":[]}},\"formatter\":{\"type\":\"object\",\"name\":\"BasicTickFormatter\",\"id\":\"p1405\"},\"axis_label\":\"translation tokens\",\"major_label_overrides\":{\"type\":\"map\",\"entries\":[[0.5,\"_EOS_\"],[1.5,\".\"],[2.5,\"property\"],[3.5,\"the\"],[4.5,\"from\"],[5.5,\"metres\"],[6.5,\"200\"],[7.5,\"is\"],[8.5,\"casa\"],[9.5,\"la\"],[10.5,\"de\"],[11.5,\"casa\"],[12.5,\"la\"],[13.5,\"de\"],[14.5,\"casa\"],[15.5,\"la\"],[16.5,\"de\"],[17.5,\"casa\"],[18.5,\"la\"],[19.5,\"al@@\"],[20.5,\"the\"],[21.5,\"at\"],[22.5,\"apartments\"],[23.5,\"the\"],[24.5,\"_BOS_\"]]},\"major_label_policy\":{\"type\":\"object\",\"name\":\"AllLabels\",\"id\":\"p1406\"}}}],\"above\":[{\"type\":\"object\",\"name\":\"LinearAxis\",\"id\":\"p1398\",\"attributes\":{\"ticker\":{\"type\":\"object\",\"name\":\"FixedTicker\",\"id\":\"p1402\",\"attributes\":{\"ticks\":{\"type\":\"ndarray\",\"array\":{\"type\":\"bytes\",\"data\":\"AAAAAAAA4D8AAAAAAAD4PwAAAAAAAARAAAAAAAAADEAAAAAAAAASQAAAAAAAABZAAAAAAAAAGkAAAAAAAAAeQAAAAAAAACFAAAAAAAAAI0AAAAAAAAAlQAAAAAAAACdAAAAAAAAAKUAAAAAAAAArQAAAAAAAAC1AAAAAAAAAL0AAAAAAAIAwQAAAAAAAgDFAAAAAAACAMkAAAAAAAIAzQAAAAAAAgDRAAAAAAACANUAAAAAAAIA2QA==\"},\"shape\":[23],\"dtype\":\"float64\",\"order\":\"little\"},\"minor_ticks\":[]}},\"formatter\":{\"type\":\"object\",\"name\":\"BasicTickFormatter\",\"id\":\"p1400\"},\"axis_label\":\"source tokens\",\"major_label_orientation\":45,\"major_label_overrides\":{\"type\":\"map\",\"entries\":[[0.5,\"_BOS_\"],[1.5,\"\\u0430\\u043f\\u0430\\u0440\\u0442\\u0430\\u043c\\u0435\\u043d\\u0442\\u044b\"],[2.5,\"mo@@\"],[3.5,\"s@@\"],[4.5,\"co@@\"],[5.5,\"w\"],[6.5,\"point\"],[7.5,\"-\"],[8.5,\"loft\"],[9.5,\"red\"],[10.5,\"square\"],[11.5,\"\\u043d\\u0430\\u0445\\u043e\\u0434\\u044f\\u0442\\u0441\\u044f\"],[12.5,\"\\u0432\"],[13.5,\"\\u043c\\u043e\\u0441\\u043a\\u0432\\u0435\"],[14.5,\",\"],[15.5,\"\\u0432\"],[16.5,\"200\"],[17.5,\"\\u043c\\u0435\\u0442\\u0440\\u0430\\u0445\"],[18.5,\"\\u043e\\u0442\"],[19.5,\"\\u0431\\u043e\\u043b\\u044c\\u0448\\u043e\\u0433\\u043e\"],[20.5,\"\\u0442\\u0435\\u0430\\u0442\\u0440\\u0430\"],[21.5,\".\"],[22.5,\"_EOS_\"]]},\"major_label_policy\":{\"type\":\"object\",\"name\":\"AllLabels\",\"id\":\"p1401\"}}}]}}]}};\n",
              "  const render_items = [{\"docid\":\"0a8ec06f-49e8-41dd-97a9-cb32be6ad2c1\",\"roots\":{\"p1370\":\"e74605bd-7b27-43b4-94f0-f99a565bdbf5\"},\"root_ids\":[\"p1370\"]}];\n",
              "  root.Bokeh.embed.embed_items_notebook(docs_json, render_items);\n",
              "  }\n",
              "  if (root.Bokeh !== undefined) {\n",
              "    embed_document(root);\n",
              "  } else {\n",
              "    let attempts = 0;\n",
              "    const timer = setInterval(function(root) {\n",
              "      if (root.Bokeh !== undefined) {\n",
              "        clearInterval(timer);\n",
              "        embed_document(root);\n",
              "      } else {\n",
              "        attempts++;\n",
              "        if (attempts > 100) {\n",
              "          clearInterval(timer);\n",
              "          console.log(\"Bokeh: ERROR: Unable to run BokehJS code because BokehJS library is missing\");\n",
              "        }\n",
              "      }\n",
              "    }, 10, root)\n",
              "  }\n",
              "})(window);"
            ],
            "application/vnd.bokehjs_exec.v0+json": ""
          },
          "metadata": {
            "application/vnd.bokehjs_exec.v0+json": {
              "id": "p1370"
            }
          }
        }
      ],
      "source": [
        "for i in range(5):\n",
        "    draw_attention(inp[i], trans[i], attention_probs[i])\n",
        "\n",
        "# Does it look fine already? don't forget to save images for anytask!"
      ]
    },
    {
      "cell_type": "markdown",
      "metadata": {
        "id": "Zd5D0SKwfsj4"
      },
      "source": [
        "__Note 1:__ If the attention maps are not iterpretable, try starting encoder from zeros (instead of dec_start), forcing model to use attention.\n",
        "\n",
        "__Note 2:__ If you're studying this course as a YSDA student, please submit __attention screenshots__ alongside your notebook."
      ]
    },
    {
      "cell_type": "markdown",
      "metadata": {
        "id": "pbIIngNVlrtt"
      },
      "source": [
        "## Goind deeper (2++ points each)\n",
        "\n",
        "We want you to find the best model for the task. Use everything you know.\n",
        "\n",
        "* different recurrent units: rnn/gru/lstm; deeper architectures\n",
        "* bidirectional encoder, different attention methods for decoder (additive, dot-product, multi-head)\n",
        "* word dropout, training schedules, anything you can imagine\n",
        "* replace greedy inference with beam search\n",
        "\n",
        "For a better grasp of seq2seq We recommend you to conduct at least one experiment from one of the bullet-points or your alternative ideas. As usual, describe what you tried and what results you obtained in a short report."
      ]
    },
    {
      "cell_type": "markdown",
      "metadata": {
        "collapsed": true,
        "id": "2rzAj_xtlrtt"
      },
      "source": [
        "`[your report/log here or anywhere you please]`"
      ]
    }
  ],
  "metadata": {
    "accelerator": "GPU",
    "colab": {
      "collapsed_sections": [
        "edk_oVg0lrtW"
      ],
      "provenance": []
    },
    "kernelspec": {
      "display_name": "Python 3",
      "language": "python",
      "name": "python3"
    },
    "language_info": {
      "codemirror_mode": {
        "name": "ipython",
        "version": 3
      },
      "file_extension": ".py",
      "mimetype": "text/x-python",
      "name": "python",
      "nbconvert_exporter": "python",
      "pygments_lexer": "ipython3",
      "version": "3.8.3"
    }
  },
  "nbformat": 4,
  "nbformat_minor": 0
}